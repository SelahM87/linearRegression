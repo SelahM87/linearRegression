{
 "cells": [
  {
   "cell_type": "markdown",
   "metadata": {
    "vscode": {
     "languageId": "bat"
    }
   },
   "source": [
    "# Hedonic Pricing\n",
    "\n",
    "We often try to predict the price of an asset from its observable characteristics. This is generally called **hedonic pricing**: How do the unit's characteristics determine its market price?\n",
    "\n",
    "In the lab folder, there are three options: housing prices in pierce_county_house_sales.csv, car prices in cars_hw.csv, and airbnb rental prices in airbnb_hw.csv. If you know of another suitable dataset, please feel free to use that one.\n",
    "\n",
    "1. Clean the data and perform some EDA and visualization to get to know the data set.\n",
    "2. Transform your variables --- particularly categorical ones --- for use in your regression analysis.\n",
    "3. Implement an ~80/~20 train-test split. Put the test data aside.\n",
    "4. Build some simple linear models that include no transformations or interactions. Fit them, and determine their RMSE and $R^2$ on the both the training and test sets. Which of your models does the best?\n",
    "5. Include transformations and interactions, and build a more complex model that reflects your ideas about how the features of the asset determine its value. Determine its RMSE and $R^2$ on the training and test sets. How does the more complex model your build compare to the simpler ones?\n",
    "6. Summarize your results from 1 to 5. Have you learned anything about overfitting and underfitting, or model selection?\n",
    "7. If you have time, use the sklearn.linear_model.Lasso to regularize your model and select the most predictive features. Which does it select? What are the RMSE and $R^2$? We'll cover the Lasso later in detail in class.\n",
    "\n"
   ]
  },
  {
   "cell_type": "code",
   "execution_count": 17,
   "metadata": {},
   "outputs": [],
   "source": [
    "import pandas as pd \n",
    "import seaborn as sns\n",
    "import plotly.express as px\n",
    "import numpy as np\n",
    "import matplotlib.pyplot as plt"
   ]
  },
  {
   "cell_type": "code",
   "execution_count": 3,
   "metadata": {},
   "outputs": [
    {
     "data": {
      "text/html": [
       "<div>\n",
       "<style scoped>\n",
       "    .dataframe tbody tr th:only-of-type {\n",
       "        vertical-align: middle;\n",
       "    }\n",
       "\n",
       "    .dataframe tbody tr th {\n",
       "        vertical-align: top;\n",
       "    }\n",
       "\n",
       "    .dataframe thead th {\n",
       "        text-align: right;\n",
       "    }\n",
       "</style>\n",
       "<table border=\"1\" class=\"dataframe\">\n",
       "  <thead>\n",
       "    <tr style=\"text-align: right;\">\n",
       "      <th></th>\n",
       "      <th>Unnamed: 0</th>\n",
       "      <th>Make</th>\n",
       "      <th>Make_Year</th>\n",
       "      <th>Color</th>\n",
       "      <th>Body_Type</th>\n",
       "      <th>Mileage_Run</th>\n",
       "      <th>No_of_Owners</th>\n",
       "      <th>Seating_Capacity</th>\n",
       "      <th>Fuel_Type</th>\n",
       "      <th>Transmission</th>\n",
       "      <th>Transmission_Type</th>\n",
       "      <th>Price</th>\n",
       "    </tr>\n",
       "  </thead>\n",
       "  <tbody>\n",
       "    <tr>\n",
       "      <th>0</th>\n",
       "      <td>1</td>\n",
       "      <td>Volkswagen</td>\n",
       "      <td>2017</td>\n",
       "      <td>silver</td>\n",
       "      <td>sedan</td>\n",
       "      <td>44611</td>\n",
       "      <td>1st</td>\n",
       "      <td>5</td>\n",
       "      <td>diesel</td>\n",
       "      <td>7-Speed</td>\n",
       "      <td>Automatic</td>\n",
       "      <td>657000</td>\n",
       "    </tr>\n",
       "    <tr>\n",
       "      <th>1</th>\n",
       "      <td>2</td>\n",
       "      <td>Hyundai</td>\n",
       "      <td>2016</td>\n",
       "      <td>red</td>\n",
       "      <td>crossover</td>\n",
       "      <td>20305</td>\n",
       "      <td>1st</td>\n",
       "      <td>5</td>\n",
       "      <td>petrol</td>\n",
       "      <td>5-Speed</td>\n",
       "      <td>Manual</td>\n",
       "      <td>682000</td>\n",
       "    </tr>\n",
       "    <tr>\n",
       "      <th>2</th>\n",
       "      <td>3</td>\n",
       "      <td>Honda</td>\n",
       "      <td>2019</td>\n",
       "      <td>white</td>\n",
       "      <td>suv</td>\n",
       "      <td>29540</td>\n",
       "      <td>2nd</td>\n",
       "      <td>5</td>\n",
       "      <td>petrol</td>\n",
       "      <td>5-Speed</td>\n",
       "      <td>Manual</td>\n",
       "      <td>793000</td>\n",
       "    </tr>\n",
       "    <tr>\n",
       "      <th>3</th>\n",
       "      <td>4</td>\n",
       "      <td>Renault</td>\n",
       "      <td>2017</td>\n",
       "      <td>bronze</td>\n",
       "      <td>hatchback</td>\n",
       "      <td>35680</td>\n",
       "      <td>1st</td>\n",
       "      <td>5</td>\n",
       "      <td>petrol</td>\n",
       "      <td>5-Speed</td>\n",
       "      <td>Manual</td>\n",
       "      <td>414000</td>\n",
       "    </tr>\n",
       "    <tr>\n",
       "      <th>4</th>\n",
       "      <td>5</td>\n",
       "      <td>Hyundai</td>\n",
       "      <td>2017</td>\n",
       "      <td>orange</td>\n",
       "      <td>hatchback</td>\n",
       "      <td>25126</td>\n",
       "      <td>1st</td>\n",
       "      <td>5</td>\n",
       "      <td>petrol</td>\n",
       "      <td>5-Speed</td>\n",
       "      <td>Manual</td>\n",
       "      <td>515000</td>\n",
       "    </tr>\n",
       "  </tbody>\n",
       "</table>\n",
       "</div>"
      ],
      "text/plain": [
       "   Unnamed: 0        Make  Make_Year   Color  Body_Type  Mileage_Run  \\\n",
       "0           1  Volkswagen       2017  silver      sedan        44611   \n",
       "1           2     Hyundai       2016     red  crossover        20305   \n",
       "2           3       Honda       2019   white        suv        29540   \n",
       "3           4     Renault       2017  bronze  hatchback        35680   \n",
       "4           5     Hyundai       2017  orange  hatchback        25126   \n",
       "\n",
       "  No_of_Owners  Seating_Capacity Fuel_Type Transmission Transmission_Type  \\\n",
       "0          1st                 5    diesel      7-Speed         Automatic   \n",
       "1          1st                 5    petrol      5-Speed            Manual   \n",
       "2          2nd                 5    petrol      5-Speed            Manual   \n",
       "3          1st                 5    petrol      5-Speed            Manual   \n",
       "4          1st                 5    petrol      5-Speed            Manual   \n",
       "\n",
       "    Price  \n",
       "0  657000  \n",
       "1  682000  \n",
       "2  793000  \n",
       "3  414000  \n",
       "4  515000  "
      ]
     },
     "execution_count": 3,
     "metadata": {},
     "output_type": "execute_result"
    }
   ],
   "source": [
    "\n",
    "df = pd.read_csv('/Users/selahmitchell/Desktop/DS interactive app/plotly-dash/DSML/MLlabs/cars_hw.csv') # Load the data\n",
    "df0 = df\n",
    "df.head()\n"
   ]
  },
  {
   "cell_type": "code",
   "execution_count": 4,
   "metadata": {},
   "outputs": [
    {
     "data": {
      "text/plain": [
       "<Axes: >"
      ]
     },
     "execution_count": 4,
     "metadata": {},
     "output_type": "execute_result"
    },
    {
     "data": {
      "image/png": "[encoded data removed]",
      "text/plain": [
       "<Figure size 640x480 with 1 Axes>"
      ]
     },
     "metadata": {},
     "output_type": "display_data"
    }
   ],
   "source": [
    "\n",
    "df['Price'].hist(bins=20)"
   ]
  },
  {
   "cell_type": "code",
   "execution_count": 5,
   "metadata": {},
   "outputs": [
    {
     "data": {
      "text/plain": [
       "<Axes: >"
      ]
     },
     "execution_count": 5,
     "metadata": {},
     "output_type": "execute_result"
    },
    {
     "data": {
      "image/png": "[encoded data removed]",
      "text/plain": [
       "<Figure size 640x480 with 1 Axes>"
      ]
     },
     "metadata": {},
     "output_type": "display_data"
    }
   ],
   "source": [
    "df['age'] = max(df['Make_Year'])-df['Make_Year'] # Convert year to age\n",
    "df['age'].hist(bins=20)"
   ]
  },
  {
   "cell_type": "code",
   "execution_count": 6,
   "metadata": {},
   "outputs": [
    {
     "data": {
      "text/plain": [
       "<Axes: xlabel='age', ylabel='Price'>"
      ]
     },
     "execution_count": 6,
     "metadata": {},
     "output_type": "execute_result"
    },
    {
     "data": {
      "image/png": "[encoded data removed]",
      "text/plain": [
       "<Figure size 640x480 with 1 Axes>"
      ]
     },
     "metadata": {},
     "output_type": "display_data"
    }
   ],
   "source": [
    "sns.scatterplot(data=df,y='Price',x='age')"
   ]
  },
  {
   "cell_type": "code",
   "execution_count": 7,
   "metadata": {},
   "outputs": [
    {
     "data": {
      "application/vnd.plotly.v1+json": {
       "config": {
        "plotlyServerURL": "https://plot.ly"
       },
       "data": [
        {
         "alignmentgroup": "True",
         "hovertemplate": "Body Type=%{x}<br>Price=%{y}<extra></extra>",
         "legendgroup": "sedan",
         "marker": {
          "color": "#636efa"
         },
         "name": "sedan",
         "notched": false,
         "offsetgroup": "sedan",
         "orientation": "v",
         "showlegend": true,
         "type": "box",
         "x": [
          "sedan",
          "sedan",
          "sedan",
          "sedan",
          "sedan",
          "sedan",
          "sedan",
          "sedan",
          "sedan",
          "sedan",
          "sedan",
          "sedan",
          "sedan",
          "sedan",
          "sedan",
          "sedan",
          "sedan",
          "sedan",
          "sedan",
          "sedan",
          "sedan",
          "sedan",
          "sedan",
          "sedan",
          "sedan",
          "sedan",
          "sedan",
          "sedan",
          "sedan",
          "sedan",
          "sedan",
          "sedan",
          "sedan",
          "sedan",
          "sedan",
          "sedan",
          "sedan",
          "sedan",
          "sedan",
          "sedan",
          "sedan",
          "sedan",
          "sedan",
          "sedan",
          "sedan",
          "sedan",
          "sedan",
          "sedan",
          "sedan",
          "sedan",
          "sedan",
          "sedan",
          "sedan",
          "sedan",
          "sedan",
          "sedan",
          "sedan",
          "sedan",
          "sedan",
          "sedan",
          "sedan",
          "sedan",
          "sedan",
          "sedan",
          "sedan",
          "sedan",
          "sedan",
          "sedan",
          "sedan",
          "sedan",
          "sedan",
          "sedan",
          "sedan",
          "sedan",
          "sedan",
          "sedan",
          "sedan",
          "sedan",
          "sedan",
          "sedan",
          "sedan",
          "sedan",
          "sedan",
          "sedan",
          "sedan",
          "sedan",
          "sedan",
          "sedan",
          "sedan",
          "sedan",
          "sedan",
          "sedan",
          "sedan",
          "sedan",
          "sedan",
          "sedan",
          "sedan",
          "sedan",
          "sedan",
          "sedan",
          "sedan",
          "sedan",
          "sedan",
          "sedan",
          "sedan",
          "sedan",
          "sedan",
          "sedan",
          "sedan",
          "sedan",
          "sedan",
          "sedan",
          "sedan",
          "sedan",
          "sedan",
          "sedan",
          "sedan",
          "sedan",
          "sedan",
          "sedan",
          "sedan",
          "sedan",
          "sedan",
          "sedan",
          "sedan",
          "sedan",
          "sedan",
          "sedan",
          "sedan",
          "sedan",
          "sedan",
          "sedan",
          "sedan",
          "sedan",
          "sedan",
          "sedan",
          "sedan",
          "sedan",
          "sedan",
          "sedan",
          "sedan",
          "sedan",
          "sedan",
          "sedan",
          "sedan",
          "sedan",
          "sedan",
          "sedan",
          "sedan",
          "sedan",
          "sedan",
          "sedan",
          "sedan",
          "sedan",
          "sedan",
          "sedan",
          "sedan",
          "sedan",
          "sedan",
          "sedan",
          "sedan",
          "sedan",
          "sedan",
          "sedan",
          "sedan",
          "sedan",
          "sedan",
          "sedan",
          "sedan",
          "sedan",
          "sedan",
          "sedan",
          "sedan",
          "sedan",
          "sedan",
          "sedan",
          "sedan",
          "sedan",
          "sedan",
          "sedan",
          "sedan",
          "sedan",
          "sedan",
          "sedan",
          "sedan",
          "sedan",
          "sedan",
          "sedan",
          "sedan",
          "sedan",
          "sedan",
          "sedan",
          "sedan",
          "sedan",
          "sedan",
          "sedan",
          "sedan",
          "sedan",
          "sedan",
          "sedan",
          "sedan",
          "sedan",
          "sedan",
          "sedan",
          "sedan",
          "sedan",
          "sedan",
          "sedan",
          "sedan",
          "sedan",
          "sedan",
          "sedan",
          "sedan",
          "sedan",
          "sedan",
          "sedan",
          "sedan",
          "sedan",
          "sedan",
          "sedan",
          "sedan",
          "sedan",
          "sedan",
          "sedan",
          "sedan",
          "sedan",
          "sedan"
         ],
         "x0": " ",
         "xaxis": "x",
         "y": [
          657000,
          598000,
          1039000,
          680000,
          567000,
          554000,
          984000,
          536000,
          629000,
          1012000,
          1537000,
          725000,
          759000,
          455000,
          1138000,
          730000,
          937000,
          1364000,
          470000,
          1085000,
          902000,
          506000,
          594000,
          914000,
          513000,
          664000,
          1027000,
          639000,
          608000,
          966000,
          489000,
          926000,
          1039000,
          1163000,
          1349000,
          600000,
          950000,
          820000,
          570000,
          837000,
          612000,
          857000,
          759000,
          677000,
          501000,
          829000,
          496000,
          927000,
          898000,
          514000,
          512000,
          2941000,
          1346000,
          789000,
          470000,
          982000,
          827000,
          452000,
          694000,
          698000,
          989000,
          940000,
          589000,
          589000,
          589000,
          589000,
          920000,
          952000,
          790000,
          790000,
          790000,
          790000,
          765000,
          892000,
          634000,
          882000,
          812000,
          914000,
          498000,
          1092000,
          1092000,
          1092000,
          1092000,
          820000,
          502000,
          457000,
          824000,
          795000,
          720000,
          699000,
          426000,
          574000,
          646000,
          436000,
          870000,
          589000,
          702000,
          1266000,
          1001000,
          815000,
          729000,
          524000,
          1047000,
          551000,
          606000,
          442000,
          859000,
          663000,
          824000,
          1464000,
          755000,
          1023000,
          1015000,
          772000,
          400000,
          739000,
          461000,
          368000,
          387000,
          1051000,
          1051000,
          1051000,
          1051000,
          914000,
          914000,
          914000,
          914000,
          598000,
          1027000,
          1027000,
          1027000,
          1027000,
          863000,
          538000,
          485000,
          551000,
          523000,
          1422000,
          894000,
          894000,
          894000,
          894000,
          971000,
          593000,
          499000,
          542000,
          854000,
          1458000,
          1100000,
          878000,
          555000,
          1178000,
          765000,
          1240000,
          1171000,
          840000,
          764000,
          563000,
          465000,
          823000,
          571000,
          622000,
          812000,
          709000,
          982000,
          880000,
          1366000,
          799000,
          784000,
          1185000,
          466000,
          1454000,
          1411000,
          999000,
          761000,
          877000,
          734000,
          763000,
          487000,
          1011000,
          1011000,
          1011000,
          1011000,
          699000,
          517000,
          896000,
          978000,
          544000,
          538000,
          607000,
          754000,
          618000,
          544000,
          470000,
          430000,
          785000,
          737000,
          689000,
          669000,
          669000,
          669000,
          669000,
          1132000,
          1448000,
          647000,
          1314000,
          553000,
          776000,
          533000,
          1299000,
          772000,
          545000,
          619000,
          651000,
          651000,
          651000,
          651000,
          627000,
          746000,
          963000,
          727000,
          898000,
          1040000,
          722000,
          956000,
          1027000,
          736000
         ],
         "y0": " ",
         "yaxis": "y"
        },
        {
         "alignmentgroup": "True",
         "hovertemplate": "Body Type=%{x}<br>Price=%{y}<extra></extra>",
         "legendgroup": "crossover",
         "marker": {
          "color": "#EF553B"
         },
         "name": "crossover",
         "notched": false,
         "offsetgroup": "crossover",
         "orientation": "v",
         "showlegend": true,
         "type": "box",
         "x": [
          "crossover",
          "crossover",
          "crossover",
          "crossover",
          "crossover",
          "crossover",
          "crossover",
          "crossover",
          "crossover",
          "crossover",
          "crossover",
          "crossover",
          "crossover",
          "crossover",
          "crossover",
          "crossover",
          "crossover",
          "crossover",
          "crossover",
          "crossover",
          "crossover"
         ],
         "x0": " ",
         "xaxis": "x",
         "y": [
          682000,
          625000,
          638000,
          694000,
          645000,
          725000,
          711000,
          608000,
          638000,
          635000,
          883000,
          728000,
          706000,
          843000,
          617000,
          752000,
          760000,
          667000,
          748000,
          753000,
          749000
         ],
         "y0": " ",
         "yaxis": "y"
        },
        {
         "alignmentgroup": "True",
         "hovertemplate": "Body Type=%{x}<br>Price=%{y}<extra></extra>",
         "legendgroup": "suv",
         "marker": {
          "color": "#00cc96"
         },
         "name": "suv",
         "notched": false,
         "offsetgroup": "suv",
         "orientation": "v",
         "showlegend": true,
         "type": "box",
         "x": [
          "suv",
          "suv",
          "suv",
          "suv",
          "suv",
          "suv",
          "suv",
          "suv",
          "suv",
          "suv",
          "suv",
          "suv",
          "suv",
          "suv",
          "suv",
          "suv",
          "suv",
          "suv",
          "suv",
          "suv",
          "suv",
          "suv",
          "suv",
          "suv",
          "suv",
          "suv",
          "suv",
          "suv",
          "suv",
          "suv",
          "suv",
          "suv",
          "suv",
          "suv",
          "suv",
          "suv",
          "suv",
          "suv",
          "suv",
          "suv",
          "suv",
          "suv",
          "suv",
          "suv",
          "suv",
          "suv",
          "suv",
          "suv",
          "suv",
          "suv",
          "suv",
          "suv",
          "suv",
          "suv",
          "suv",
          "suv",
          "suv",
          "suv",
          "suv",
          "suv",
          "suv",
          "suv",
          "suv",
          "suv",
          "suv",
          "suv",
          "suv",
          "suv",
          "suv",
          "suv",
          "suv",
          "suv",
          "suv",
          "suv",
          "suv",
          "suv",
          "suv",
          "suv",
          "suv",
          "suv",
          "suv",
          "suv",
          "suv",
          "suv",
          "suv",
          "suv",
          "suv",
          "suv",
          "suv",
          "suv",
          "suv",
          "suv",
          "suv",
          "suv",
          "suv",
          "suv",
          "suv",
          "suv",
          "suv",
          "suv",
          "suv",
          "suv",
          "suv",
          "suv",
          "suv",
          "suv",
          "suv",
          "suv",
          "suv",
          "suv",
          "suv",
          "suv",
          "suv",
          "suv",
          "suv",
          "suv",
          "suv",
          "suv",
          "suv",
          "suv",
          "suv",
          "suv",
          "suv",
          "suv",
          "suv",
          "suv",
          "suv",
          "suv",
          "suv",
          "suv",
          "suv",
          "suv",
          "suv",
          "suv",
          "suv",
          "suv",
          "suv",
          "suv",
          "suv",
          "suv",
          "suv",
          "suv",
          "suv",
          "suv",
          "suv",
          "suv",
          "suv",
          "suv",
          "suv",
          "suv",
          "suv",
          "suv",
          "suv",
          "suv",
          "suv",
          "suv",
          "suv",
          "suv",
          "suv",
          "suv",
          "suv",
          "suv",
          "suv",
          "suv",
          "suv",
          "suv",
          "suv",
          "suv",
          "suv",
          "suv",
          "suv",
          "suv",
          "suv",
          "suv",
          "suv",
          "suv",
          "suv",
          "suv",
          "suv",
          "suv",
          "suv",
          "suv",
          "suv",
          "suv",
          "suv",
          "suv",
          "suv",
          "suv",
          "suv",
          "suv",
          "suv",
          "suv",
          "suv",
          "suv",
          "suv",
          "suv",
          "suv",
          "suv",
          "suv",
          "suv",
          "suv",
          "suv",
          "suv",
          "suv",
          "suv",
          "suv"
         ],
         "x0": " ",
         "xaxis": "x",
         "y": [
          793000,
          1419000,
          969000,
          2100000,
          858000,
          860000,
          1076000,
          877000,
          829000,
          796000,
          1972000,
          1742000,
          1875000,
          622000,
          807000,
          651000,
          783000,
          885000,
          1173000,
          791000,
          842000,
          1071000,
          1044000,
          1649000,
          869000,
          1399000,
          562000,
          932000,
          1709000,
          1770000,
          1705000,
          1039000,
          748000,
          1764000,
          1826000,
          1290000,
          1559000,
          942000,
          974000,
          619000,
          1644000,
          735000,
          1117000,
          1500000,
          1099000,
          1099000,
          1099000,
          1099000,
          1078000,
          1013000,
          1741000,
          1032000,
          912000,
          1235000,
          808000,
          1290000,
          1290000,
          1290000,
          1290000,
          748000,
          1137000,
          941000,
          1077000,
          800000,
          1465000,
          806000,
          1196000,
          589000,
          1912000,
          1112000,
          813000,
          971000,
          894000,
          986000,
          637000,
          1086000,
          1086000,
          1086000,
          1086000,
          1213000,
          1098000,
          732000,
          1104000,
          1848000,
          1848000,
          1848000,
          1848000,
          943000,
          1647000,
          977000,
          803000,
          858000,
          1176000,
          1274000,
          1064000,
          628000,
          1549000,
          848000,
          1277000,
          1011000,
          830000,
          629000,
          643000,
          1369000,
          883000,
          1610000,
          754000,
          754000,
          754000,
          754000,
          912000,
          1822000,
          1822000,
          1822000,
          1822000,
          1589000,
          807000,
          1054000,
          995000,
          1700000,
          914000,
          727000,
          1150000,
          1117000,
          1720000,
          745000,
          1052000,
          788000,
          1774000,
          2019000,
          2019000,
          2019000,
          2019000,
          738000,
          1700000,
          1958000,
          1958000,
          1958000,
          1958000,
          1019000,
          1978000,
          1978000,
          1978000,
          1978000,
          708000,
          678000,
          1589000,
          1066000,
          1984000,
          1984000,
          1984000,
          1984000,
          1055000,
          1164000,
          885000,
          833000,
          1266000,
          1030000,
          1137000,
          1708000,
          980000,
          881000,
          916000,
          871000,
          860000,
          1165000,
          810000,
          932000,
          1238000,
          1032000,
          559000,
          955000,
          926000,
          1106000,
          994000,
          997000,
          862000,
          1166000,
          1099000,
          618000,
          1130000,
          1043000,
          915000,
          936000,
          635000,
          1127000,
          831000,
          1212000,
          1699000,
          707000,
          1098000,
          907000,
          1117000,
          945000,
          1799000,
          1685000,
          935000,
          910000,
          810000,
          954000,
          1071000,
          1152000,
          845000,
          1063000,
          838000,
          799000
         ],
         "y0": " ",
         "yaxis": "y"
        },
        {
         "alignmentgroup": "True",
         "hovertemplate": "Body Type=%{x}<br>Price=%{y}<extra></extra>",
         "legendgroup": "hatchback",
         "marker": {
          "color": "#ab63fa"
         },
         "name": "hatchback",
         "notched": false,
         "offsetgroup": "hatchback",
         "orientation": "v",
         "showlegend": true,
         "type": "box",
         "x": [
          "hatchback",
          "hatchback",
          "hatchback",
          "hatchback",
          "hatchback",
          "hatchback",
          "hatchback",
          "hatchback",
          "hatchback",
          "hatchback",
          "hatchback",
          "hatchback",
          "hatchback",
          "hatchback",
          "hatchback",
          "hatchback",
          "hatchback",
          "hatchback",
          "hatchback",
          "hatchback",
          "hatchback",
          "hatchback",
          "hatchback",
          "hatchback",
          "hatchback",
          "hatchback",
          "hatchback",
          "hatchback",
          "hatchback",
          "hatchback",
          "hatchback",
          "hatchback",
          "hatchback",
          "hatchback",
          "hatchback",
          "hatchback",
          "hatchback",
          "hatchback",
          "hatchback",
          "hatchback",
          "hatchback",
          "hatchback",
          "hatchback",
          "hatchback",
          "hatchback",
          "hatchback",
          "hatchback",
          "hatchback",
          "hatchback",
          "hatchback",
          "hatchback",
          "hatchback",
          "hatchback",
          "hatchback",
          "hatchback",
          "hatchback",
          "hatchback",
          "hatchback",
          "hatchback",
          "hatchback",
          "hatchback",
          "hatchback",
          "hatchback",
          "hatchback",
          "hatchback",
          "hatchback",
          "hatchback",
          "hatchback",
          "hatchback",
          "hatchback",
          "hatchback",
          "hatchback",
          "hatchback",
          "hatchback",
          "hatchback",
          "hatchback",
          "hatchback",
          "hatchback",
          "hatchback",
          "hatchback",
          "hatchback",
          "hatchback",
          "hatchback",
          "hatchback",
          "hatchback",
          "hatchback",
          "hatchback",
          "hatchback",
          "hatchback",
          "hatchback",
          "hatchback",
          "hatchback",
          "hatchback",
          "hatchback",
          "hatchback",
          "hatchback",
          "hatchback",
          "hatchback",
          "hatchback",
          "hatchback",
          "hatchback",
          "hatchback",
          "hatchback",
          "hatchback",
          "hatchback",
          "hatchback",
          "hatchback",
          "hatchback",
          "hatchback",
          "hatchback",
          "hatchback",
          "hatchback",
          "hatchback",
          "hatchback",
          "hatchback",
          "hatchback",
          "hatchback",
          "hatchback",
          "hatchback",
          "hatchback",
          "hatchback",
          "hatchback",
          "hatchback",
          "hatchback",
          "hatchback",
          "hatchback",
          "hatchback",
          "hatchback",
          "hatchback",
          "hatchback",
          "hatchback",
          "hatchback",
          "hatchback",
          "hatchback",
          "hatchback",
          "hatchback",
          "hatchback",
          "hatchback",
          "hatchback",
          "hatchback",
          "hatchback",
          "hatchback",
          "hatchback",
          "hatchback",
          "hatchback",
          "hatchback",
          "hatchback",
          "hatchback",
          "hatchback",
          "hatchback",
          "hatchback",
          "hatchback",
          "hatchback",
          "hatchback",
          "hatchback",
          "hatchback",
          "hatchback",
          "hatchback",
          "hatchback",
          "hatchback",
          "hatchback",
          "hatchback",
          "hatchback",
          "hatchback",
          "hatchback",
          "hatchback",
          "hatchback",
          "hatchback",
          "hatchback",
          "hatchback",
          "hatchback",
          "hatchback",
          "hatchback",
          "hatchback",
          "hatchback",
          "hatchback",
          "hatchback",
          "hatchback",
          "hatchback",
          "hatchback",
          "hatchback",
          "hatchback",
          "hatchback",
          "hatchback",
          "hatchback",
          "hatchback",
          "hatchback",
          "hatchback",
          "hatchback",
          "hatchback",
          "hatchback",
          "hatchback",
          "hatchback",
          "hatchback",
          "hatchback",
          "hatchback",
          "hatchback",
          "hatchback",
          "hatchback",
          "hatchback",
          "hatchback",
          "hatchback",
          "hatchback",
          "hatchback",
          "hatchback",
          "hatchback",
          "hatchback",
          "hatchback",
          "hatchback",
          "hatchback",
          "hatchback",
          "hatchback",
          "hatchback",
          "hatchback",
          "hatchback",
          "hatchback",
          "hatchback",
          "hatchback",
          "hatchback",
          "hatchback",
          "hatchback",
          "hatchback",
          "hatchback",
          "hatchback",
          "hatchback",
          "hatchback",
          "hatchback",
          "hatchback",
          "hatchback",
          "hatchback",
          "hatchback",
          "hatchback",
          "hatchback",
          "hatchback",
          "hatchback",
          "hatchback",
          "hatchback",
          "hatchback",
          "hatchback",
          "hatchback",
          "hatchback",
          "hatchback",
          "hatchback",
          "hatchback",
          "hatchback",
          "hatchback",
          "hatchback",
          "hatchback",
          "hatchback",
          "hatchback",
          "hatchback",
          "hatchback",
          "hatchback",
          "hatchback",
          "hatchback",
          "hatchback",
          "hatchback",
          "hatchback",
          "hatchback",
          "hatchback",
          "hatchback",
          "hatchback",
          "hatchback",
          "hatchback",
          "hatchback",
          "hatchback",
          "hatchback",
          "hatchback",
          "hatchback",
          "hatchback",
          "hatchback",
          "hatchback",
          "hatchback",
          "hatchback",
          "hatchback",
          "hatchback",
          "hatchback",
          "hatchback",
          "hatchback",
          "hatchback",
          "hatchback",
          "hatchback",
          "hatchback",
          "hatchback",
          "hatchback",
          "hatchback",
          "hatchback",
          "hatchback",
          "hatchback",
          "hatchback",
          "hatchback",
          "hatchback",
          "hatchback",
          "hatchback",
          "hatchback",
          "hatchback",
          "hatchback",
          "hatchback",
          "hatchback",
          "hatchback",
          "hatchback",
          "hatchback",
          "hatchback",
          "hatchback",
          "hatchback",
          "hatchback",
          "hatchback",
          "hatchback",
          "hatchback",
          "hatchback",
          "hatchback",
          "hatchback",
          "hatchback",
          "hatchback",
          "hatchback",
          "hatchback",
          "hatchback",
          "hatchback",
          "hatchback",
          "hatchback",
          "hatchback",
          "hatchback",
          "hatchback",
          "hatchback",
          "hatchback",
          "hatchback",
          "hatchback",
          "hatchback",
          "hatchback",
          "hatchback",
          "hatchback",
          "hatchback",
          "hatchback",
          "hatchback",
          "hatchback",
          "hatchback",
          "hatchback",
          "hatchback",
          "hatchback",
          "hatchback",
          "hatchback",
          "hatchback",
          "hatchback",
          "hatchback",
          "hatchback",
          "hatchback",
          "hatchback",
          "hatchback",
          "hatchback",
          "hatchback",
          "hatchback",
          "hatchback",
          "hatchback",
          "hatchback",
          "hatchback",
          "hatchback",
          "hatchback",
          "hatchback",
          "hatchback",
          "hatchback",
          "hatchback",
          "hatchback",
          "hatchback",
          "hatchback",
          "hatchback",
          "hatchback",
          "hatchback",
          "hatchback",
          "hatchback",
          "hatchback",
          "hatchback",
          "hatchback",
          "hatchback",
          "hatchback",
          "hatchback",
          "hatchback",
          "hatchback",
          "hatchback",
          "hatchback",
          "hatchback",
          "hatchback",
          "hatchback",
          "hatchback",
          "hatchback",
          "hatchback",
          "hatchback",
          "hatchback",
          "hatchback",
          "hatchback",
          "hatchback",
          "hatchback",
          "hatchback",
          "hatchback",
          "hatchback",
          "hatchback",
          "hatchback",
          "hatchback",
          "hatchback",
          "hatchback",
          "hatchback",
          "hatchback",
          "hatchback",
          "hatchback",
          "hatchback",
          "hatchback",
          "hatchback",
          "hatchback",
          "hatchback",
          "hatchback",
          "hatchback",
          "hatchback",
          "hatchback",
          "hatchback",
          "hatchback",
          "hatchback",
          "hatchback",
          "hatchback",
          "hatchback",
          "hatchback",
          "hatchback",
          "hatchback",
          "hatchback",
          "hatchback",
          "hatchback",
          "hatchback",
          "hatchback",
          "hatchback",
          "hatchback",
          "hatchback",
          "hatchback",
          "hatchback",
          "hatchback",
          "hatchback",
          "hatchback",
          "hatchback",
          "hatchback",
          "hatchback",
          "hatchback",
          "hatchback",
          "hatchback",
          "hatchback",
          "hatchback",
          "hatchback",
          "hatchback",
          "hatchback",
          "hatchback",
          "hatchback",
          "hatchback",
          "hatchback",
          "hatchback",
          "hatchback",
          "hatchback",
          "hatchback",
          "hatchback",
          "hatchback",
          "hatchback",
          "hatchback",
          "hatchback",
          "hatchback",
          "hatchback",
          "hatchback",
          "hatchback",
          "hatchback",
          "hatchback",
          "hatchback",
          "hatchback",
          "hatchback",
          "hatchback",
          "hatchback",
          "hatchback",
          "hatchback",
          "hatchback",
          "hatchback",
          "hatchback",
          "hatchback",
          "hatchback",
          "hatchback",
          "hatchback",
          "hatchback",
          "hatchback",
          "hatchback",
          "hatchback",
          "hatchback",
          "hatchback"
         ],
         "x0": " ",
         "xaxis": "x",
         "y": [
          414000,
          515000,
          604000,
          316000,
          710000,
          392000,
          666000,
          625000,
          371000,
          587000,
          396000,
          507000,
          586000,
          639000,
          237000,
          456000,
          1107000,
          571000,
          718000,
          396000,
          774000,
          554000,
          530000,
          367000,
          550000,
          660000,
          998000,
          908000,
          508000,
          417000,
          980000,
          435000,
          554000,
          442000,
          530000,
          920000,
          568000,
          419000,
          476000,
          577000,
          541000,
          609000,
          571000,
          412000,
          590000,
          628000,
          724000,
          620000,
          659000,
          953000,
          457000,
          461000,
          471000,
          362000,
          544000,
          575000,
          742000,
          392000,
          626000,
          320000,
          579000,
          773000,
          519000,
          356000,
          522000,
          699000,
          510000,
          512000,
          658000,
          369000,
          388000,
          739000,
          677000,
          523000,
          273000,
          304000,
          361000,
          365000,
          616000,
          749000,
          547000,
          579000,
          679000,
          400000,
          342000,
          790000,
          360000,
          276000,
          352000,
          363000,
          333000,
          589000,
          790000,
          660000,
          678000,
          483000,
          248000,
          336000,
          711000,
          348000,
          659000,
          269000,
          451000,
          532000,
          338000,
          557000,
          653000,
          642000,
          503000,
          330000,
          395000,
          458000,
          844000,
          844000,
          844000,
          844000,
          570000,
          639000,
          454000,
          548000,
          710000,
          621000,
          267000,
          368000,
          699000,
          544000,
          611000,
          534000,
          584000,
          681000,
          681000,
          681000,
          681000,
          580000,
          746000,
          239000,
          453000,
          521000,
          426000,
          556000,
          785000,
          464000,
          574000,
          655000,
          548000,
          528000,
          527000,
          340000,
          420000,
          486000,
          348000,
          451000,
          403000,
          338000,
          654000,
          669000,
          628000,
          883000,
          810000,
          530000,
          455000,
          403000,
          380000,
          457000,
          414000,
          391000,
          433000,
          372000,
          384000,
          784000,
          655000,
          539000,
          470000,
          790000,
          415000,
          368000,
          338000,
          342000,
          688000,
          816000,
          644000,
          644000,
          644000,
          644000,
          674000,
          350000,
          275000,
          533000,
          805000,
          406000,
          406000,
          622000,
          742000,
          284000,
          699000,
          605000,
          451000,
          633000,
          709000,
          402000,
          334000,
          496000,
          735000,
          487000,
          410000,
          766000,
          311000,
          391000,
          323000,
          598000,
          464000,
          472000,
          353000,
          402000,
          358000,
          399000,
          836000,
          410000,
          795000,
          343000,
          362000,
          300000,
          694000,
          484000,
          384000,
          482000,
          581000,
          320000,
          362000,
          489000,
          389000,
          715000,
          847000,
          317000,
          396000,
          453000,
          281000,
          628000,
          713000,
          338000,
          445000,
          447000,
          620000,
          444000,
          686000,
          372000,
          684000,
          352000,
          392000,
          489000,
          688000,
          710000,
          308000,
          787000,
          528000,
          514000,
          568000,
          407000,
          485000,
          691000,
          512000,
          788000,
          457000,
          301000,
          262000,
          308000,
          255000,
          396000,
          661000,
          450000,
          435000,
          331000,
          485000,
          405000,
          347000,
          369000,
          768000,
          578000,
          417000,
          349000,
          576000,
          423000,
          737000,
          425000,
          330000,
          429000,
          408000,
          406000,
          271000,
          293000,
          447000,
          448000,
          315000,
          433000,
          454000,
          734000,
          449000,
          544000,
          266000,
          477000,
          430000,
          287000,
          373000,
          404000,
          318000,
          447000,
          506000,
          610000,
          290000,
          523000,
          460000,
          689000,
          814000,
          455000,
          314000,
          876000,
          423000,
          423000,
          423000,
          423000,
          411000,
          340000,
          405000,
          365000,
          422000,
          412000,
          429000,
          326000,
          336000,
          368000,
          439000,
          328000,
          434000,
          348000,
          556000,
          447000,
          569000,
          428000,
          455000,
          658000,
          752000,
          869000,
          869000,
          869000,
          869000,
          273000,
          603000,
          521000,
          511000,
          389000,
          751000,
          306000,
          306000,
          306000,
          306000,
          771000,
          614000,
          410000,
          427000,
          484000,
          423000,
          549000,
          525000,
          744000,
          834000,
          594000,
          785000,
          785000,
          785000,
          785000,
          718000,
          749000,
          320000,
          625000,
          411000,
          540000,
          822000,
          770000,
          515000,
          426000,
          541000,
          390000,
          792000,
          769000,
          635000,
          481000,
          489000,
          847000,
          847000,
          847000,
          847000,
          625000,
          677000,
          647000,
          661000,
          446000,
          814000,
          391000,
          1034000,
          350000,
          787000,
          787000,
          787000,
          787000,
          526000,
          571000,
          726000,
          573000,
          454000,
          274000,
          465000,
          663000,
          812000,
          812000,
          812000,
          812000,
          541000,
          464000,
          809000,
          814000,
          406000,
          523000,
          425000,
          1026000,
          353000,
          490000,
          548000,
          465000,
          505000,
          459000,
          334000,
          764000,
          245000,
          290000,
          430000,
          529000,
          722000,
          279000,
          620000,
          401000,
          528000,
          700000,
          439000,
          319000,
          520000,
          662000,
          439000,
          439000,
          439000,
          439000,
          543000,
          469000,
          367000,
          568000,
          579000,
          475000,
          326000,
          565000,
          443000,
          524000,
          420000,
          450000,
          612000,
          335000,
          475000,
          188000,
          731000,
          395000,
          495000,
          699000,
          332000,
          371000,
          305000,
          681000,
          650000,
          784000,
          596000,
          816000,
          790000,
          663000,
          590000,
          838000,
          829000,
          691000
         ],
         "y0": " ",
         "yaxis": "y"
        },
        {
         "alignmentgroup": "True",
         "hovertemplate": "Body Type=%{x}<br>Price=%{y}<extra></extra>",
         "legendgroup": "muv",
         "marker": {
          "color": "#FFA15A"
         },
         "name": "muv",
         "notched": false,
         "offsetgroup": "muv",
         "orientation": "v",
         "showlegend": true,
         "type": "box",
         "x": [
          "muv",
          "muv",
          "muv",
          "muv",
          "muv",
          "muv",
          "muv",
          "muv",
          "muv",
          "muv",
          "muv",
          "muv",
          "muv",
          "muv",
          "muv",
          "muv",
          "muv",
          "muv",
          "muv",
          "muv",
          "muv",
          "muv",
          "muv",
          "muv",
          "muv",
          "muv",
          "muv",
          "muv",
          "muv",
          "muv",
          "muv",
          "muv",
          "muv",
          "muv",
          "muv",
          "muv",
          "muv",
          "muv"
         ],
         "x0": " ",
         "xaxis": "x",
         "y": [
          613000,
          587000,
          481000,
          737000,
          615000,
          690000,
          686000,
          651000,
          618000,
          780000,
          488000,
          949000,
          898000,
          906000,
          739000,
          452000,
          436000,
          408000,
          732000,
          701000,
          752000,
          605000,
          638000,
          335000,
          396000,
          495000,
          625000,
          425000,
          506000,
          1091000,
          749000,
          335000,
          499000,
          495000,
          911000,
          758000,
          694000,
          328000
         ],
         "y0": " ",
         "yaxis": "y"
        }
       ],
       "layout": {
        "boxmode": "overlay",
        "legend": {
         "title": {
          "text": "Body Type"
         },
         "tracegroupgap": 0
        },
        "template": {
         "data": {
          "bar": [
           {
            "error_x": {
             "color": "#2a3f5f"
            },
            "error_y": {
             "color": "#2a3f5f"
            },
            "marker": {
             "line": {
              "color": "#E5ECF6",
              "width": 0.5
             },
             "pattern": {
              "fillmode": "overlay",
              "size": 10,
              "solidity": 0.2
             }
            },
            "type": "bar"
           }
          ],
          "barpolar": [
           {
            "marker": {
             "line": {
              "color": "#E5ECF6",
              "width": 0.5
             },
             "pattern": {
              "fillmode": "overlay",
              "size": 10,
              "solidity": 0.2
             }
            },
            "type": "barpolar"
           }
          ],
          "carpet": [
           {
            "aaxis": {
             "endlinecolor": "#2a3f5f",
             "gridcolor": "white",
             "linecolor": "white",
             "minorgridcolor": "white",
             "startlinecolor": "#2a3f5f"
            },
            "baxis": {
             "endlinecolor": "#2a3f5f",
             "gridcolor": "white",
             "linecolor": "white",
             "minorgridcolor": "white",
             "startlinecolor": "#2a3f5f"
            },
            "type": "carpet"
           }
          ],
          "choropleth": [
           {
            "colorbar": {
             "outlinewidth": 0,
             "ticks": ""
            },
            "type": "choropleth"
           }
          ],
          "contour": [
           {
            "colorbar": {
             "outlinewidth": 0,
             "ticks": ""
            },
            "colorscale": [
             [
              0,
              "#0d0887"
             ],
             [
              0.1111111111111111,
              "#46039f"
             ],
             [
              0.2222222222222222,
              "#7201a8"
             ],
             [
              0.3333333333333333,
              "#9c179e"
             ],
             [
              0.4444444444444444,
              "#bd3786"
             ],
             [
              0.5555555555555556,
              "#d8576b"
             ],
             [
              0.6666666666666666,
              "#ed7953"
             ],
             [
              0.7777777777777778,
              "#fb9f3a"
             ],
             [
              0.8888888888888888,
              "#fdca26"
             ],
             [
              1,
              "#f0f921"
             ]
            ],
            "type": "contour"
           }
          ],
          "contourcarpet": [
           {
            "colorbar": {
             "outlinewidth": 0,
             "ticks": ""
            },
            "type": "contourcarpet"
           }
          ],
          "heatmap": [
           {
            "colorbar": {
             "outlinewidth": 0,
             "ticks": ""
            },
            "colorscale": [
             [
              0,
              "#0d0887"
             ],
             [
              0.1111111111111111,
              "#46039f"
             ],
             [
              0.2222222222222222,
              "#7201a8"
             ],
             [
              0.3333333333333333,
              "#9c179e"
             ],
             [
              0.4444444444444444,
              "#bd3786"
             ],
             [
              0.5555555555555556,
              "#d8576b"
             ],
             [
              0.6666666666666666,
              "#ed7953"
             ],
             [
              0.7777777777777778,
              "#fb9f3a"
             ],
             [
              0.8888888888888888,
              "#fdca26"
             ],
             [
              1,
              "#f0f921"
             ]
            ],
            "type": "heatmap"
           }
          ],
          "heatmapgl": [
           {
            "colorbar": {
             "outlinewidth": 0,
             "ticks": ""
            },
            "colorscale": [
             [
              0,
              "#0d0887"
             ],
             [
              0.1111111111111111,
              "#46039f"
             ],
             [
              0.2222222222222222,
              "#7201a8"
             ],
             [
              0.3333333333333333,
              "#9c179e"
             ],
             [
              0.4444444444444444,
              "#bd3786"
             ],
             [
              0.5555555555555556,
              "#d8576b"
             ],
             [
              0.6666666666666666,
              "#ed7953"
             ],
             [
              0.7777777777777778,
              "#fb9f3a"
             ],
             [
              0.8888888888888888,
              "#fdca26"
             ],
             [
              1,
              "#f0f921"
             ]
            ],
            "type": "heatmapgl"
           }
          ],
          "histogram": [
           {
            "marker": {
             "pattern": {
              "fillmode": "overlay",
              "size": 10,
              "solidity": 0.2
             }
            },
            "type": "histogram"
           }
          ],
          "histogram2d": [
           {
            "colorbar": {
             "outlinewidth": 0,
             "ticks": ""
            },
            "colorscale": [
             [
              0,
              "#0d0887"
             ],
             [
              0.1111111111111111,
              "#46039f"
             ],
             [
              0.2222222222222222,
              "#7201a8"
             ],
             [
              0.3333333333333333,
              "#9c179e"
             ],
             [
              0.4444444444444444,
              "#bd3786"
             ],
             [
              0.5555555555555556,
              "#d8576b"
             ],
             [
              0.6666666666666666,
              "#ed7953"
             ],
             [
              0.7777777777777778,
              "#fb9f3a"
             ],
             [
              0.8888888888888888,
              "#fdca26"
             ],
             [
              1,
              "#f0f921"
             ]
            ],
            "type": "histogram2d"
           }
          ],
          "histogram2dcontour": [
           {
            "colorbar": {
             "outlinewidth": 0,
             "ticks": ""
            },
            "colorscale": [
             [
              0,
              "#0d0887"
             ],
             [
              0.1111111111111111,
              "#46039f"
             ],
             [
              0.2222222222222222,
              "#7201a8"
             ],
             [
              0.3333333333333333,
              "#9c179e"
             ],
             [
              0.4444444444444444,
              "#bd3786"
             ],
             [
              0.5555555555555556,
              "#d8576b"
             ],
             [
              0.6666666666666666,
              "#ed7953"
             ],
             [
              0.7777777777777778,
              "#fb9f3a"
             ],
             [
              0.8888888888888888,
              "#fdca26"
             ],
             [
              1,
              "#f0f921"
             ]
            ],
            "type": "histogram2dcontour"
           }
          ],
          "mesh3d": [
           {
            "colorbar": {
             "outlinewidth": 0,
             "ticks": ""
            },
            "type": "mesh3d"
           }
          ],
          "parcoords": [
           {
            "line": {
             "colorbar": {
              "outlinewidth": 0,
              "ticks": ""
             }
            },
            "type": "parcoords"
           }
          ],
          "pie": [
           {
            "automargin": true,
            "type": "pie"
           }
          ],
          "scatter": [
           {
            "fillpattern": {
             "fillmode": "overlay",
             "size": 10,
             "solidity": 0.2
            },
            "type": "scatter"
           }
          ],
          "scatter3d": [
           {
            "line": {
             "colorbar": {
              "outlinewidth": 0,
              "ticks": ""
             }
            },
            "marker": {
             "colorbar": {
              "outlinewidth": 0,
              "ticks": ""
             }
            },
            "type": "scatter3d"
           }
          ],
          "scattercarpet": [
           {
            "marker": {
             "colorbar": {
              "outlinewidth": 0,
              "ticks": ""
             }
            },
            "type": "scattercarpet"
           }
          ],
          "scattergeo": [
           {
            "marker": {
             "colorbar": {
              "outlinewidth": 0,
              "ticks": ""
             }
            },
            "type": "scattergeo"
           }
          ],
          "scattergl": [
           {
            "marker": {
             "colorbar": {
              "outlinewidth": 0,
              "ticks": ""
             }
            },
            "type": "scattergl"
           }
          ],
          "scattermapbox": [
           {
            "marker": {
             "colorbar": {
              "outlinewidth": 0,
              "ticks": ""
             }
            },
            "type": "scattermapbox"
           }
          ],
          "scatterpolar": [
           {
            "marker": {
             "colorbar": {
              "outlinewidth": 0,
              "ticks": ""
             }
            },
            "type": "scatterpolar"
           }
          ],
          "scatterpolargl": [
           {
            "marker": {
             "colorbar": {
              "outlinewidth": 0,
              "ticks": ""
             }
            },
            "type": "scatterpolargl"
           }
          ],
          "scatterternary": [
           {
            "marker": {
             "colorbar": {
              "outlinewidth": 0,
              "ticks": ""
             }
            },
            "type": "scatterternary"
           }
          ],
          "surface": [
           {
            "colorbar": {
             "outlinewidth": 0,
             "ticks": ""
            },
            "colorscale": [
             [
              0,
              "#0d0887"
             ],
             [
              0.1111111111111111,
              "#46039f"
             ],
             [
              0.2222222222222222,
              "#7201a8"
             ],
             [
              0.3333333333333333,
              "#9c179e"
             ],
             [
              0.4444444444444444,
              "#bd3786"
             ],
             [
              0.5555555555555556,
              "#d8576b"
             ],
             [
              0.6666666666666666,
              "#ed7953"
             ],
             [
              0.7777777777777778,
              "#fb9f3a"
             ],
             [
              0.8888888888888888,
              "#fdca26"
             ],
             [
              1,
              "#f0f921"
             ]
            ],
            "type": "surface"
           }
          ],
          "table": [
           {
            "cells": {
             "fill": {
              "color": "#EBF0F8"
             },
             "line": {
              "color": "white"
             }
            },
            "header": {
             "fill": {
              "color": "#C8D4E3"
             },
             "line": {
              "color": "white"
             }
            },
            "type": "table"
           }
          ]
         },
         "layout": {
          "annotationdefaults": {
           "arrowcolor": "#2a3f5f",
           "arrowhead": 0,
           "arrowwidth": 1
          },
          "autotypenumbers": "strict",
          "coloraxis": {
           "colorbar": {
            "outlinewidth": 0,
            "ticks": ""
           }
          },
          "colorscale": {
           "diverging": [
            [
             0,
             "#8e0152"
            ],
            [
             0.1,
             "#c51b7d"
            ],
            [
             0.2,
             "#de77ae"
            ],
            [
             0.3,
             "#f1b6da"
            ],
            [
             0.4,
             "#fde0ef"
            ],
            [
             0.5,
             "#f7f7f7"
            ],
            [
             0.6,
             "#e6f5d0"
            ],
            [
             0.7,
             "#b8e186"
            ],
            [
             0.8,
             "#7fbc41"
            ],
            [
             0.9,
             "#4d9221"
            ],
            [
             1,
             "#276419"
            ]
           ],
           "sequential": [
            [
             0,
             "#0d0887"
            ],
            [
             0.1111111111111111,
             "#46039f"
            ],
            [
             0.2222222222222222,
             "#7201a8"
            ],
            [
             0.3333333333333333,
             "#9c179e"
            ],
            [
             0.4444444444444444,
             "#bd3786"
            ],
            [
             0.5555555555555556,
             "#d8576b"
            ],
            [
             0.6666666666666666,
             "#ed7953"
            ],
            [
             0.7777777777777778,
             "#fb9f3a"
            ],
            [
             0.8888888888888888,
             "#fdca26"
            ],
            [
             1,
             "#f0f921"
            ]
           ],
           "sequentialminus": [
            [
             0,
             "#0d0887"
            ],
            [
             0.1111111111111111,
             "#46039f"
            ],
            [
             0.2222222222222222,
             "#7201a8"
            ],
            [
             0.3333333333333333,
             "#9c179e"
            ],
            [
             0.4444444444444444,
             "#bd3786"
            ],
            [
             0.5555555555555556,
             "#d8576b"
            ],
            [
             0.6666666666666666,
             "#ed7953"
            ],
            [
             0.7777777777777778,
             "#fb9f3a"
            ],
            [
             0.8888888888888888,
             "#fdca26"
            ],
            [
             1,
             "#f0f921"
            ]
           ]
          },
          "colorway": [
           "#636efa",
           "#EF553B",
           "#00cc96",
           "#ab63fa",
           "#FFA15A",
           "#19d3f3",
           "#FF6692",
           "#B6E880",
           "#FF97FF",
           "#FECB52"
          ],
          "font": {
           "color": "#2a3f5f"
          },
          "geo": {
           "bgcolor": "white",
           "lakecolor": "white",
           "landcolor": "#E5ECF6",
           "showlakes": true,
           "showland": true,
           "subunitcolor": "white"
          },
          "hoverlabel": {
           "align": "left"
          },
          "hovermode": "closest",
          "mapbox": {
           "style": "light"
          },
          "paper_bgcolor": "white",
          "plot_bgcolor": "#E5ECF6",
          "polar": {
           "angularaxis": {
            "gridcolor": "white",
            "linecolor": "white",
            "ticks": ""
           },
           "bgcolor": "#E5ECF6",
           "radialaxis": {
            "gridcolor": "white",
            "linecolor": "white",
            "ticks": ""
           }
          },
          "scene": {
           "xaxis": {
            "backgroundcolor": "#E5ECF6",
            "gridcolor": "white",
            "gridwidth": 2,
            "linecolor": "white",
            "showbackground": true,
            "ticks": "",
            "zerolinecolor": "white"
           },
           "yaxis": {
            "backgroundcolor": "#E5ECF6",
            "gridcolor": "white",
            "gridwidth": 2,
            "linecolor": "white",
            "showbackground": true,
            "ticks": "",
            "zerolinecolor": "white"
           },
           "zaxis": {
            "backgroundcolor": "#E5ECF6",
            "gridcolor": "white",
            "gridwidth": 2,
            "linecolor": "white",
            "showbackground": true,
            "ticks": "",
            "zerolinecolor": "white"
           }
          },
          "shapedefaults": {
           "line": {
            "color": "#2a3f5f"
           }
          },
          "ternary": {
           "aaxis": {
            "gridcolor": "white",
            "linecolor": "white",
            "ticks": ""
           },
           "baxis": {
            "gridcolor": "white",
            "linecolor": "white",
            "ticks": ""
           },
           "bgcolor": "#E5ECF6",
           "caxis": {
            "gridcolor": "white",
            "linecolor": "white",
            "ticks": ""
           }
          },
          "title": {
           "x": 0.05
          },
          "xaxis": {
           "automargin": true,
           "gridcolor": "white",
           "linecolor": "white",
           "ticks": "",
           "title": {
            "standoff": 15
           },
           "zerolinecolor": "white",
           "zerolinewidth": 2
          },
          "yaxis": {
           "automargin": true,
           "gridcolor": "white",
           "linecolor": "white",
           "ticks": "",
           "title": {
            "standoff": 15
           },
           "zerolinecolor": "white",
           "zerolinewidth": 2
          }
         }
        },
        "title": {
         "text": "Box Plot of Vehicle Price by Body Type"
        },
        "xaxis": {
         "anchor": "y",
         "categoryarray": [
          "sedan",
          "crossover",
          "suv",
          "hatchback",
          "muv"
         ],
         "categoryorder": "array",
         "domain": [
          0,
          1
         ],
         "title": {
          "text": "Body Type"
         }
        },
        "yaxis": {
         "anchor": "x",
         "domain": [
          0,
          1
         ],
         "title": {
          "text": "Price"
         }
        }
       }
      }
     },
     "metadata": {},
     "output_type": "display_data"
    }
   ],
   "source": [
    "import plotly.express as px\n",
    "\n",
    "# Box plot\n",
    "fig_box = px.box(df, x='Body_Type', y='Price', \n",
    "                 title='Box Plot of Vehicle Price by Body Type',\n",
    "                 labels={'Body_Type': 'Body Type', 'Price': 'Price'},\n",
    "                 color='Body_Type')\n",
    "fig_box.update_layout(xaxis_title='Body Type', yaxis_title='Price')\n",
    "fig_box.show()\n"
   ]
  },
  {
   "cell_type": "code",
   "execution_count": 8,
   "metadata": {},
   "outputs": [
    {
     "data": {
      "application/vnd.plotly.v1+json": {
       "config": {
        "plotlyServerURL": "https://plot.ly"
       },
       "data": [
        {
         "customdata": [
          [
           "Volkswagen",
           2017
          ],
          [
           "Tata",
           2019
          ],
          [
           "Chevrolet",
           2013
          ],
          [
           "Tata",
           2021
          ],
          [
           "Renault",
           2017
          ],
          [
           "Hyundai",
           2019
          ],
          [
           "Hyundai",
           2018
          ],
          [
           "Maruti Suzuki",
           2017
          ],
          [
           "Mahindra",
           2017
          ],
          [
           "Tata",
           2021
          ],
          [
           "Tata",
           2021
          ],
          [
           "Hyundai",
           2018
          ],
          [
           "Maruti Suzuki",
           2018
          ],
          [
           "Maruti Suzuki",
           2017
          ],
          [
           "Maruti Suzuki",
           2013
          ],
          [
           "Hyundai",
           2018
          ],
          [
           "Hyundai",
           2018
          ],
          [
           "Honda",
           2018
          ],
          [
           "Hyundai",
           2014
          ],
          [
           "Jeep",
           2017
          ],
          [
           "Maruti Suzuki",
           2018
          ],
          [
           "Renault",
           2015
          ],
          [
           "Mahindra",
           2019
          ],
          [
           "Chevrolet",
           2015
          ],
          [
           "Ford",
           2014
          ],
          [
           "Ford",
           2019
          ],
          [
           "Hyundai",
           2014
          ],
          [
           "Jeep",
           2017
          ],
          [
           "Jeep",
           2017
          ],
          [
           "Maruti Suzuki",
           2018
          ],
          [
           "Hyundai",
           2016
          ],
          [
           "Ford",
           2017
          ],
          [
           "Volkswagen",
           2015
          ],
          [
           "Hyundai",
           2016
          ],
          [
           "Maruti Suzuki",
           2019
          ],
          [
           "Jeep",
           2017
          ],
          [
           "Hyundai",
           2016
          ],
          [
           "Hyundai",
           2016
          ],
          [
           "Hyundai",
           2016
          ],
          [
           "Hyundai",
           2016
          ],
          [
           "Renault",
           2017
          ],
          [
           "Mahindra",
           2015
          ],
          [
           "Renault",
           2016
          ],
          [
           "Hyundai",
           2015
          ],
          [
           "Hyundai",
           2017
          ],
          [
           "Maruti Suzuki",
           2015
          ],
          [
           "Hyundai",
           2017
          ],
          [
           "Hyundai",
           2017
          ],
          [
           "Hyundai",
           2017
          ],
          [
           "Hyundai",
           2017
          ],
          [
           "Chevrolet",
           2013
          ],
          [
           "Honda",
           2019
          ],
          [
           "Maruti Suzuki",
           2016
          ],
          [
           "Ford",
           2019
          ],
          [
           "Ford",
           2019
          ],
          [
           "Ford",
           2019
          ],
          [
           "Ford",
           2019
          ],
          [
           "Ford",
           2016
          ],
          [
           "Tata",
           2021
          ],
          [
           "Mahindra",
           2020
          ],
          [
           "Volkswagen",
           2014
          ],
          [
           "Volkswagen",
           2014
          ],
          [
           "Volkswagen",
           2014
          ],
          [
           "Volkswagen",
           2014
          ],
          [
           "Honda",
           2018
          ],
          [
           "Mahindra",
           2017
          ],
          [
           "Chevrolet",
           2015
          ],
          [
           "Tata",
           2020
          ],
          [
           "Maruti Suzuki",
           2019
          ],
          [
           "Mahindra",
           2017
          ],
          [
           "Maruti Suzuki",
           2018
          ],
          [
           "Maruti Suzuki",
           2012
          ],
          [
           "Hyundai",
           2017
          ],
          [
           "Renault",
           2014
          ],
          [
           "Hyundai",
           2016
          ],
          [
           "Hyundai",
           2018
          ],
          [
           "Ford",
           2019
          ],
          [
           "Ford",
           2019
          ],
          [
           "Ford",
           2019
          ],
          [
           "Ford",
           2019
          ],
          [
           "Hyundai",
           2016
          ],
          [
           "Hyundai",
           2016
          ],
          [
           "Hyundai",
           2016
          ],
          [
           "Hyundai",
           2016
          ],
          [
           "Hyundai",
           2017
          ],
          [
           "MG Motors",
           2020
          ],
          [
           "MG Motors",
           2020
          ],
          [
           "MG Motors",
           2020
          ],
          [
           "MG Motors",
           2020
          ],
          [
           "Maruti Suzuki",
           2013
          ],
          [
           "Volkswagen",
           2017
          ],
          [
           "Skoda",
           2012
          ],
          [
           "Hyundai",
           2017
          ],
          [
           "Hyundai",
           2014
          ],
          [
           "Hyundai",
           2016
          ],
          [
           "Maruti Suzuki",
           2019
          ],
          [
           "Ford",
           2016
          ],
          [
           "Maruti Suzuki",
           2016
          ],
          [
           "Maruti Suzuki",
           2016
          ],
          [
           "Maruti Suzuki",
           2016
          ],
          [
           "Hyundai",
           2016
          ],
          [
           "Mahindra",
           2015
          ],
          [
           "Hyundai",
           2020
          ],
          [
           "Hyundai",
           2017
          ],
          [
           "Maruti Suzuki",
           2012
          ],
          [
           "Mahindra",
           2020
          ],
          [
           "Hyundai",
           2014
          ],
          [
           "Ford",
           2014
          ],
          [
           "Renault",
           2015
          ],
          [
           "Renault",
           2015
          ],
          [
           "Renault",
           2015
          ],
          [
           "Renault",
           2015
          ],
          [
           "Honda",
           2018
          ],
          [
           "MG Motors",
           2020
          ],
          [
           "MG Motors",
           2020
          ],
          [
           "MG Motors",
           2020
          ],
          [
           "MG Motors",
           2020
          ],
          [
           "Mahindra",
           2016
          ],
          [
           "Mahindra",
           2015
          ],
          [
           "Hyundai",
           2017
          ],
          [
           "Mahindra",
           2015
          ],
          [
           "Mahindra",
           2015
          ],
          [
           "Hyundai",
           2015
          ],
          [
           "Hyundai",
           2016
          ],
          [
           "MG Motors",
           2020
          ],
          [
           "MG Motors",
           2020
          ],
          [
           "MG Motors",
           2020
          ],
          [
           "MG Motors",
           2020
          ],
          [
           "Hyundai",
           2017
          ],
          [
           "Renault",
           2015
          ],
          [
           "MG Motors",
           2020
          ],
          [
           "MG Motors",
           2020
          ],
          [
           "MG Motors",
           2020
          ],
          [
           "MG Motors",
           2020
          ],
          [
           "Renault",
           2018
          ],
          [
           "MG Motors",
           2020
          ],
          [
           "MG Motors",
           2020
          ],
          [
           "MG Motors",
           2020
          ],
          [
           "MG Motors",
           2020
          ],
          [
           "MG Motors",
           2021
          ],
          [
           "MG Motors",
           2021
          ],
          [
           "MG Motors",
           2021
          ],
          [
           "MG Motors",
           2021
          ],
          [
           "Mahindra",
           2015
          ],
          [
           "Maruti Suzuki",
           2014
          ],
          [
           "Volkswagen",
           2014
          ],
          [
           "Renault",
           2018
          ],
          [
           "Hyundai",
           2016
          ],
          [
           "Maruti Suzuki",
           2018
          ],
          [
           "Mahindra",
           2015
          ],
          [
           "Renault",
           2018
          ],
          [
           "Maruti Suzuki",
           2016
          ],
          [
           "Mahindra",
           2015
          ],
          [
           "Maruti Suzuki",
           2014
          ],
          [
           "Renault",
           2017
          ],
          [
           "Ford",
           2017
          ],
          [
           "Skoda",
           2012
          ],
          [
           "Honda",
           2019
          ],
          [
           "Ford",
           2013
          ],
          [
           "Maruti Suzuki",
           2012
          ],
          [
           "Ford",
           2020
          ],
          [
           "Ford",
           2020
          ],
          [
           "Ford",
           2020
          ],
          [
           "Ford",
           2020
          ],
          [
           "Renault",
           2015
          ],
          [
           "Ford",
           2019
          ],
          [
           "Maruti Suzuki",
           2013
          ],
          [
           "Renault",
           2017
          ],
          [
           "Mahindra",
           2017
          ],
          [
           "Renault",
           2013
          ],
          [
           "Maruti Suzuki",
           2018
          ],
          [
           "Maruti Suzuki",
           2017
          ],
          [
           "Mahindra",
           2015
          ],
          [
           "Honda",
           2019
          ],
          [
           "Ford",
           2015
          ],
          [
           "Mahindra",
           2015
          ],
          [
           "Maruti Suzuki",
           2016
          ],
          [
           "Tata",
           2019
          ],
          [
           "Maruti Suzuki",
           2015
          ],
          [
           "Ford",
           2016
          ],
          [
           "Hyundai",
           2017
          ],
          [
           "Hyundai",
           2015
          ],
          [
           "Tata",
           2019
          ],
          [
           "Renault",
           2014
          ],
          [
           "Maruti Suzuki",
           2017
          ],
          [
           "Maruti Suzuki",
           2016
          ],
          [
           "Tata",
           2018
          ],
          [
           "Maruti Suzuki",
           2018
          ],
          [
           "Maruti Suzuki",
           2018
          ],
          [
           "Maruti Suzuki",
           2017
          ],
          [
           "Ford",
           2020
          ]
         ],
         "hovertemplate": "Fuel_Type=diesel<br>Mileage (in km)=%{x}<br>Price=%{y}<br>Make=%{customdata[0]}<br>Make_Year=%{customdata[1]}<extra></extra>",
         "legendgroup": "diesel",
         "marker": {
          "color": "#636efa",
          "symbol": "circle"
         },
         "mode": "markers",
         "name": "diesel",
         "orientation": "v",
         "showlegend": true,
         "type": "scatter",
         "x": [
          44611,
          92603,
          71450,
          15059,
          70137,
          85981,
          78981,
          64458,
          69939,
          38143,
          16090,
          87773,
          52291,
          83551,
          77692,
          55760,
          83607,
          81799,
          78297,
          50808,
          73950,
          70520,
          42905,
          42222,
          97902,
          14499,
          72009,
          43091,
          44503,
          61922,
          41218,
          43112,
          53807,
          93446,
          15418,
          60049,
          88735,
          88735,
          88735,
          88735,
          50811,
          71397,
          69658,
          81103,
          44894,
          39515,
          66868,
          66868,
          66868,
          66868,
          77022,
          29780,
          40003,
          31262,
          31262,
          31262,
          31262,
          83705,
          12002,
          61411,
          83265,
          83265,
          83265,
          83265,
          69591,
          56418,
          72489,
          24315,
          30420,
          46438,
          27941,
          46447,
          41443,
          85751,
          73251,
          44188,
          45590,
          45590,
          45590,
          45590,
          97039,
          97039,
          97039,
          97039,
          86163,
          36581,
          36581,
          36581,
          36581,
          84739,
          90423,
          93981,
          95862,
          60227,
          88795,
          37942,
          96471,
          35128,
          99495,
          54971,
          54734,
          44987,
          16234,
          51511,
          82049,
          39894,
          81335,
          86120,
          59680,
          59680,
          59680,
          59680,
          48924,
          13185,
          13185,
          13185,
          13185,
          54656,
          94751,
          50749,
          72696,
          79576,
          92256,
          29602,
          30234,
          30234,
          30234,
          30234,
          33545,
          87057,
          51686,
          51686,
          51686,
          51686,
          57995,
          32604,
          32604,
          32604,
          32604,
          49279,
          49279,
          49279,
          49279,
          66820,
          48079,
          54723,
          18005,
          65232,
          50664,
          60985,
          23783,
          76060,
          64338,
          74660,
          77127,
          31080,
          99495,
          30457,
          95381,
          70628,
          11762,
          11762,
          11762,
          11762,
          73760,
          67732,
          61796,
          54260,
          41060,
          88547,
          58025,
          64528,
          40438,
          73732,
          92474,
          41651,
          52220,
          19589,
          51844,
          91463,
          88895,
          41086,
          62300,
          34080,
          28476,
          38729,
          35730,
          35042,
          31570,
          53719,
          28335
         ],
         "xaxis": "x",
         "y": [
          657000,
          1419000,
          598000,
          2100000,
          860000,
          1076000,
          1012000,
          725000,
          796000,
          1972000,
          1875000,
          937000,
          807000,
          651000,
          471000,
          914000,
          1027000,
          842000,
          639000,
          1649000,
          773000,
          615000,
          1399000,
          356000,
          562000,
          739000,
          600000,
          1290000,
          1559000,
          942000,
          616000,
          619000,
          547000,
          589000,
          1117000,
          1500000,
          1099000,
          1099000,
          1099000,
          1099000,
          1013000,
          1032000,
          912000,
          642000,
          1235000,
          808000,
          1290000,
          1290000,
          1290000,
          1290000,
          267000,
          982000,
          941000,
          681000,
          681000,
          681000,
          681000,
          521000,
          785000,
          1077000,
          790000,
          790000,
          790000,
          790000,
          800000,
          1465000,
          892000,
          1912000,
          883000,
          1112000,
          810000,
          455000,
          790000,
          637000,
          688000,
          816000,
          644000,
          644000,
          644000,
          644000,
          1086000,
          1086000,
          1086000,
          1086000,
          699000,
          1848000,
          1848000,
          1848000,
          1848000,
          496000,
          735000,
          436000,
          870000,
          702000,
          694000,
          847000,
          628000,
          949000,
          898000,
          906000,
          684000,
          848000,
          1464000,
          788000,
          457000,
          1277000,
          772000,
          643000,
          754000,
          754000,
          754000,
          754000,
          912000,
          1822000,
          1822000,
          1822000,
          1822000,
          1054000,
          914000,
          1150000,
          1117000,
          1052000,
          689000,
          814000,
          2019000,
          2019000,
          2019000,
          2019000,
          876000,
          738000,
          1958000,
          1958000,
          1958000,
          1958000,
          1019000,
          1978000,
          1978000,
          1978000,
          1978000,
          1984000,
          1984000,
          1984000,
          1984000,
          1055000,
          556000,
          569000,
          1164000,
          706000,
          764000,
          1266000,
          1137000,
          881000,
          916000,
          540000,
          810000,
          932000,
          466000,
          1032000,
          559000,
          487000,
          787000,
          787000,
          787000,
          787000,
          625000,
          955000,
          538000,
          862000,
          1166000,
          618000,
          1091000,
          722000,
          1130000,
          915000,
          635000,
          1127000,
          831000,
          1699000,
          911000,
          707000,
          1098000,
          748000,
          1685000,
          627000,
          910000,
          810000,
          954000,
          1071000,
          1152000,
          845000,
          749000
         ],
         "yaxis": "y"
        },
        {
         "customdata": [
          [
           "Hyundai",
           2016
          ],
          [
           "Honda",
           2019
          ],
          [
           "Renault",
           2017
          ],
          [
           "Hyundai",
           2017
          ],
          [
           "Hyundai",
           2016
          ],
          [
           "Honda",
           2012
          ],
          [
           "Hyundai",
           2021
          ],
          [
           "Renault",
           2019
          ],
          [
           "Renault",
           2020
          ],
          [
           "Hyundai",
           2019
          ],
          [
           "Maruti Suzuki",
           2019
          ],
          [
           "Toyota",
           2020
          ],
          [
           "Tata",
           2022
          ],
          [
           "Toyota",
           2018
          ],
          [
           "Hyundai",
           2018
          ],
          [
           "Volkswagen",
           2017
          ],
          [
           "Maruti Suzuki",
           2014
          ],
          [
           "Toyota",
           2017
          ],
          [
           "Hyundai",
           2016
          ],
          [
           "Maruti Suzuki",
           2014
          ],
          [
           "Hyundai",
           2019
          ],
          [
           "Maruti Suzuki",
           2019
          ],
          [
           "Hyundai",
           2017
          ],
          [
           "Maruti Suzuki",
           2017
          ],
          [
           "Maruti Suzuki",
           2011
          ],
          [
           "Honda",
           2013
          ],
          [
           "Renault",
           2020
          ],
          [
           "Hyundai",
           2021
          ],
          [
           "Hyundai",
           2016
          ],
          [
           "Honda",
           2015
          ],
          [
           "Honda",
           2017
          ],
          [
           "Maruti Suzuki",
           2022
          ],
          [
           "Hyundai",
           2013
          ],
          [
           "Hyundai",
           2022
          ],
          [
           "Tata",
           2020
          ],
          [
           "Maruti Suzuki",
           2018
          ],
          [
           "Tata",
           2022
          ],
          [
           "Hyundai",
           2014
          ],
          [
           "Maruti Suzuki",
           2017
          ],
          [
           "Hyundai",
           2018
          ],
          [
           "Maruti Suzuki",
           2018
          ],
          [
           "Hyundai",
           2021
          ],
          [
           "Honda",
           2021
          ],
          [
           "Hyundai",
           2021
          ],
          [
           "Renault",
           2019
          ],
          [
           "Maruti Suzuki",
           2019
          ],
          [
           "Hyundai",
           2020
          ],
          [
           "Hyundai",
           2016
          ],
          [
           "Maruti Suzuki",
           2015
          ],
          [
           "Maruti Suzuki",
           2020
          ],
          [
           "Maruti Suzuki",
           2013
          ],
          [
           "Hyundai",
           2019
          ],
          [
           "Maruti Suzuki",
           2018
          ],
          [
           "Hyundai",
           2015
          ],
          [
           "Maruti Suzuki",
           2021
          ],
          [
           "Tata",
           2022
          ],
          [
           "Hyundai",
           2021
          ],
          [
           "Maruti Suzuki",
           2015
          ],
          [
           "Maruti Suzuki",
           2016
          ],
          [
           "Renault",
           2020
          ],
          [
           "Hyundai",
           2019
          ],
          [
           "Hyundai",
           2020
          ],
          [
           "Volkswagen",
           2016
          ],
          [
           "Ford",
           2015
          ],
          [
           "Hyundai",
           2016
          ],
          [
           "Hyundai",
           2020
          ],
          [
           "Hyundai",
           2016
          ],
          [
           "Renault",
           2019
          ],
          [
           "Hyundai",
           2018
          ],
          [
           "Hyundai",
           2017
          ],
          [
           "Hyundai",
           2018
          ],
          [
           "Honda",
           2020
          ],
          [
           "Ford",
           2018
          ],
          [
           "Maruti Suzuki",
           2020
          ],
          [
           "Nissan",
           2021
          ],
          [
           "Maruti Suzuki",
           2018
          ],
          [
           "Hyundai",
           2014
          ],
          [
           "Maruti Suzuki",
           2021
          ],
          [
           "Maruti Suzuki",
           2021
          ],
          [
           "Volkswagen",
           2020
          ],
          [
           "Tata",
           2022
          ],
          [
           "Hyundai",
           2019
          ],
          [
           "Maruti Suzuki",
           2020
          ],
          [
           "Maruti Suzuki",
           2020
          ],
          [
           "Maruti Suzuki",
           2020
          ],
          [
           "Honda",
           2017
          ],
          [
           "Toyota",
           2014
          ],
          [
           "Maruti Suzuki",
           2017
          ],
          [
           "Hyundai",
           2013
          ],
          [
           "Hyundai",
           2015
          ],
          [
           "Volkswagen",
           2014
          ],
          [
           "Renault",
           2020
          ],
          [
           "Maruti Suzuki",
           2018
          ],
          [
           "Hyundai",
           2015
          ],
          [
           "Volkswagen",
           2019
          ],
          [
           "Nissan",
           2022
          ],
          [
           "Hyundai",
           2021
          ],
          [
           "Maruti Suzuki",
           2020
          ],
          [
           "Tata",
           2020
          ],
          [
           "Hyundai",
           2016
          ],
          [
           "Hyundai",
           2019
          ],
          [
           "Volkswagen",
           2017
          ],
          [
           "Honda",
           2015
          ],
          [
           "Tata",
           2021
          ],
          [
           "Hyundai",
           2018
          ],
          [
           "Hyundai",
           2019
          ],
          [
           "Hyundai",
           2016
          ],
          [
           "Maruti Suzuki",
           2021
          ],
          [
           "Toyota",
           2018
          ],
          [
           "Honda",
           2012
          ],
          [
           "Maruti Suzuki",
           2020
          ],
          [
           "Ford",
           2021
          ],
          [
           "Hyundai",
           2018
          ],
          [
           "Toyota",
           2013
          ],
          [
           "Toyota",
           2016
          ],
          [
           "MG Motors",
           2020
          ],
          [
           "Maruti Suzuki",
           2020
          ],
          [
           "MG Motors",
           2020
          ],
          [
           "Maruti Suzuki",
           2020
          ],
          [
           "Honda",
           2020
          ],
          [
           "Kia",
           2020
          ],
          [
           "Hyundai",
           2019
          ],
          [
           "Maruti Suzuki",
           2019
          ],
          [
           "Honda",
           2017
          ],
          [
           "Maruti Suzuki",
           2018
          ],
          [
           "Hyundai",
           2016
          ],
          [
           "Tata",
           2017
          ],
          [
           "MG Motors",
           2020
          ],
          [
           "Hyundai",
           2018
          ],
          [
           "Hyundai",
           2017
          ],
          [
           "MG Motors",
           2020
          ],
          [
           "Hyundai",
           2020
          ],
          [
           "Hyundai",
           2017
          ],
          [
           "Hyundai",
           2017
          ],
          [
           "Ford",
           2020
          ],
          [
           "Hyundai",
           2016
          ],
          [
           "Hyundai",
           2012
          ],
          [
           "Hyundai",
           2011
          ],
          [
           "Maruti Suzuki",
           2020
          ],
          [
           "Renault",
           2017
          ],
          [
           "Maruti Suzuki",
           2015
          ],
          [
           "Hyundai",
           2022
          ],
          [
           "Hyundai",
           2015
          ],
          [
           "Renault",
           2019
          ],
          [
           "Maruti Suzuki",
           2017
          ],
          [
           "Maruti Suzuki",
           2015
          ],
          [
           "Maruti Suzuki",
           2015
          ],
          [
           "MG Motors",
           2020
          ],
          [
           "Maruti Suzuki",
           2013
          ],
          [
           "Tata",
           2021
          ],
          [
           "Hyundai",
           2017
          ],
          [
           "Maruti Suzuki",
           2015
          ],
          [
           "Hyundai",
           2013
          ],
          [
           "Maruti Suzuki",
           2020
          ],
          [
           "Hyundai",
           2013
          ],
          [
           "Renault",
           2022
          ],
          [
           "Maruti Suzuki",
           2021
          ],
          [
           "Maruti Suzuki",
           2020
          ],
          [
           "Hyundai",
           2021
          ],
          [
           "Honda",
           2019
          ],
          [
           "Renault",
           2019
          ],
          [
           "Hyundai",
           2013
          ],
          [
           "Maruti Suzuki",
           2019
          ],
          [
           "Hyundai",
           2012
          ],
          [
           "Maruti Suzuki",
           2015
          ],
          [
           "Maruti Suzuki",
           2017
          ],
          [
           "Renault",
           2021
          ],
          [
           "Maruti Suzuki",
           2014
          ],
          [
           "Hyundai",
           2016
          ],
          [
           "Hyundai",
           2013
          ],
          [
           "Kia",
           2020
          ],
          [
           "Maruti Suzuki",
           2018
          ],
          [
           "Hyundai",
           2014
          ],
          [
           "Hyundai",
           2014
          ],
          [
           "Honda",
           2019
          ],
          [
           "Maruti Suzuki",
           2016
          ],
          [
           "Renault",
           2021
          ],
          [
           "Maruti Suzuki",
           2011
          ],
          [
           "Hyundai",
           2019
          ],
          [
           "Hyundai",
           2020
          ],
          [
           "Honda",
           2018
          ],
          [
           "Renault",
           2020
          ],
          [
           "Maruti Suzuki",
           2018
          ],
          [
           "Maruti Suzuki",
           2012
          ],
          [
           "Maruti Suzuki",
           2011
          ],
          [
           "Hyundai",
           2015
          ],
          [
           "Hyundai",
           2013
          ],
          [
           "Honda",
           2015
          ],
          [
           "Skoda",
           2019
          ],
          [
           "Honda",
           2021
          ],
          [
           "Maruti Suzuki",
           2019
          ],
          [
           "Maruti Suzuki",
           2019
          ],
          [
           "Maruti Suzuki",
           2019
          ],
          [
           "Maruti Suzuki",
           2019
          ],
          [
           "Maruti Suzuki",
           2017
          ],
          [
           "Honda",
           2016
          ],
          [
           "Maruti Suzuki",
           2016
          ],
          [
           "Maruti Suzuki",
           2012
          ],
          [
           "Maruti Suzuki",
           2014
          ],
          [
           "Maruti Suzuki",
           2013
          ],
          [
           "Tata",
           2019
          ],
          [
           "Hyundai",
           2021
          ],
          [
           "Hyundai",
           2018
          ],
          [
           "Honda",
           2017
          ],
          [
           "Renault",
           2018
          ],
          [
           "Hyundai",
           2019
          ],
          [
           "Maruti Suzuki",
           2022
          ],
          [
           "Maruti Suzuki",
           2017
          ],
          [
           "Maruti Suzuki",
           2015
          ],
          [
           "Hyundai",
           2014
          ],
          [
           "Maruti Suzuki",
           2018
          ],
          [
           "Maruti Suzuki",
           2017
          ],
          [
           "Honda",
           2017
          ],
          [
           "Hyundai",
           2021
          ],
          [
           "Honda",
           2014
          ],
          [
           "Tata",
           2015
          ],
          [
           "Renault",
           2019
          ],
          [
           "Renault",
           2021
          ],
          [
           "Hyundai",
           2014
          ],
          [
           "Maruti Suzuki",
           2015
          ],
          [
           "Maruti Suzuki",
           2011
          ],
          [
           "Honda",
           2021
          ],
          [
           "Honda",
           2020
          ],
          [
           "Hyundai",
           2017
          ],
          [
           "Hyundai",
           2014
          ],
          [
           "Hyundai",
           2017
          ],
          [
           "Hyundai",
           2017
          ],
          [
           "Hyundai",
           2017
          ],
          [
           "Hyundai",
           2017
          ],
          [
           "Hyundai",
           2018
          ],
          [
           "Maruti Suzuki",
           2021
          ],
          [
           "Maruti Suzuki",
           2020
          ],
          [
           "Maruti Suzuki",
           2020
          ],
          [
           "Renault",
           2020
          ],
          [
           "Maruti Suzuki",
           2016
          ],
          [
           "Maruti Suzuki",
           2017
          ],
          [
           "Honda",
           2017
          ],
          [
           "Honda",
           2012
          ],
          [
           "Honda",
           2018
          ],
          [
           "Hyundai",
           2012
          ],
          [
           "Hyundai",
           2013
          ],
          [
           "Hyundai",
           2012
          ],
          [
           "Volkswagen",
           2011
          ],
          [
           "Hyundai",
           2018
          ],
          [
           "Hyundai",
           2011
          ],
          [
           "Ford",
           2016
          ],
          [
           "Maruti Suzuki",
           2015
          ],
          [
           "Hyundai",
           2016
          ],
          [
           "Maruti Suzuki",
           2018
          ],
          [
           "Hyundai",
           2017
          ],
          [
           "Hyundai",
           2015
          ],
          [
           "Ford",
           2014
          ],
          [
           "Hyundai",
           2017
          ],
          [
           "Maruti Suzuki",
           2019
          ],
          [
           "Maruti Suzuki",
           2018
          ],
          [
           "Hyundai",
           2014
          ],
          [
           "Maruti Suzuki",
           2013
          ],
          [
           "Maruti Suzuki",
           2013
          ],
          [
           "Hyundai",
           2014
          ],
          [
           "Toyota",
           2020
          ],
          [
           "Toyota",
           2020
          ],
          [
           "Toyota",
           2020
          ],
          [
           "Toyota",
           2020
          ],
          [
           "Hyundai",
           2014
          ],
          [
           "Hyundai",
           2016
          ],
          [
           "Hyundai",
           2017
          ],
          [
           "Hyundai",
           2014
          ],
          [
           "Maruti Suzuki",
           2020
          ],
          [
           "Maruti Suzuki",
           2019
          ],
          [
           "Maruti Suzuki",
           2021
          ],
          [
           "Maruti Suzuki",
           2018
          ],
          [
           "Maruti Suzuki",
           2016
          ],
          [
           "Hyundai",
           2018
          ],
          [
           "Hyundai",
           2016
          ],
          [
           "Hyundai",
           2016
          ],
          [
           "Renault",
           2022
          ],
          [
           "Renault",
           2021
          ],
          [
           "Maruti Suzuki",
           2015
          ],
          [
           "Maruti Suzuki",
           2012
          ],
          [
           "Maruti Suzuki",
           2012
          ],
          [
           "Honda",
           2019
          ],
          [
           "Hyundai",
           2011
          ],
          [
           "Hyundai",
           2011
          ],
          [
           "Renault",
           2021
          ],
          [
           "Hyundai",
           2016
          ],
          [
           "Hyundai",
           2018
          ],
          [
           "Hyundai",
           2018
          ],
          [
           "Maruti Suzuki",
           2011
          ],
          [
           "Maruti Suzuki",
           2021
          ],
          [
           "Honda",
           2017
          ],
          [
           "Hyundai",
           2020
          ],
          [
           "Hyundai",
           2017
          ],
          [
           "Maruti Suzuki",
           2017
          ],
          [
           "Maruti Suzuki",
           2019
          ],
          [
           "Maruti Suzuki",
           2017
          ],
          [
           "Ford",
           2016
          ],
          [
           "Maruti Suzuki",
           2014
          ],
          [
           "Hyundai",
           2015
          ],
          [
           "Hyundai",
           2018
          ],
          [
           "Maruti Suzuki",
           2018
          ],
          [
           "Toyota",
           2011
          ],
          [
           "Hyundai",
           2012
          ],
          [
           "Honda",
           2015
          ],
          [
           "Hyundai",
           2016
          ],
          [
           "Maruti Suzuki",
           2020
          ],
          [
           "Hyundai",
           2016
          ],
          [
           "Hyundai",
           2016
          ],
          [
           "Hyundai",
           2016
          ],
          [
           "Hyundai",
           2018
          ],
          [
           "Volkswagen",
           2011
          ],
          [
           "Volkswagen",
           2017
          ],
          [
           "Hyundai",
           2013
          ],
          [
           "Maruti Suzuki",
           2015
          ],
          [
           "Maruti Suzuki",
           2013
          ],
          [
           "Hyundai",
           2018
          ],
          [
           "Kia",
           2020
          ],
          [
           "Hyundai",
           2013
          ],
          [
           "Hyundai",
           2015
          ],
          [
           "Maruti Suzuki",
           2012
          ],
          [
           "Honda",
           2015
          ],
          [
           "Hyundai",
           2017
          ],
          [
           "Maruti Suzuki",
           2017
          ],
          [
           "Renault",
           2021
          ],
          [
           "Renault",
           2017
          ],
          [
           "Volkswagen",
           2011
          ],
          [
           "Hyundai",
           2017
          ],
          [
           "Maruti Suzuki",
           2016
          ],
          [
           "Maruti Suzuki",
           2012
          ],
          [
           "Hyundai",
           2020
          ],
          [
           "Ford",
           2017
          ],
          [
           "Maruti Suzuki",
           2021
          ],
          [
           "Hyundai",
           2018
          ],
          [
           "Hyundai",
           2019
          ],
          [
           "Hyundai",
           2012
          ],
          [
           "Hyundai",
           2011
          ],
          [
           "Datsun",
           2017
          ],
          [
           "Hyundai",
           2013
          ],
          [
           "Honda",
           2018
          ],
          [
           "Hyundai",
           2014
          ],
          [
           "Honda",
           2019
          ],
          [
           "Maruti Suzuki",
           2017
          ],
          [
           "Honda",
           2016
          ],
          [
           "Hyundai",
           2011
          ],
          [
           "Hyundai",
           2018
          ],
          [
           "Hyundai",
           2019
          ],
          [
           "Maruti Suzuki",
           2016
          ],
          [
           "Renault",
           2020
          ],
          [
           "Honda",
           2015
          ],
          [
           "Hyundai",
           2017
          ],
          [
           "Hyundai",
           2014
          ],
          [
           "Honda",
           2018
          ],
          [
           "Hyundai",
           2015
          ],
          [
           "Ford",
           2020
          ],
          [
           "Maruti Suzuki",
           2017
          ],
          [
           "Hyundai",
           2016
          ],
          [
           "Maruti Suzuki",
           2011
          ],
          [
           "Hyundai",
           2017
          ],
          [
           "Hyundai",
           2017
          ],
          [
           "Maruti Suzuki",
           2011
          ],
          [
           "Maruti Suzuki",
           2014
          ],
          [
           "Maruti Suzuki",
           2015
          ],
          [
           "Hyundai",
           2017
          ],
          [
           "Ford",
           2017
          ],
          [
           "Hyundai",
           2017
          ],
          [
           "Hyundai",
           2015
          ],
          [
           "Hyundai",
           2013
          ],
          [
           "Maruti Suzuki",
           2015
          ],
          [
           "Hyundai",
           2014
          ],
          [
           "Maruti Suzuki",
           2015
          ],
          [
           "Hyundai",
           2014
          ],
          [
           "Honda",
           2017
          ],
          [
           "Kia",
           2019
          ],
          [
           "Honda",
           2018
          ],
          [
           "Maruti Suzuki",
           2011
          ],
          [
           "Hyundai",
           2018
          ],
          [
           "Hyundai",
           2016
          ],
          [
           "Renault",
           2021
          ],
          [
           "Hyundai",
           2013
          ],
          [
           "Maruti Suzuki",
           2012
          ],
          [
           "Maruti Suzuki",
           2019
          ],
          [
           "Hyundai",
           2016
          ],
          [
           "Honda",
           2015
          ],
          [
           "Hyundai",
           2016
          ],
          [
           "Maruti Suzuki",
           2014
          ],
          [
           "Hyundai",
           2017
          ],
          [
           "Renault",
           2020
          ],
          [
           "Hyundai",
           2014
          ],
          [
           "Hyundai",
           2018
          ],
          [
           "Maruti Suzuki",
           2017
          ],
          [
           "Maruti Suzuki",
           2018
          ],
          [
           "Maruti Suzuki",
           2018
          ],
          [
           "Maruti Suzuki",
           2013
          ],
          [
           "Maruti Suzuki",
           2011
          ],
          [
           "Maruti Suzuki",
           2013
          ],
          [
           "Maruti Suzuki",
           2020
          ],
          [
           "Ford",
           2018
          ],
          [
           "Maruti Suzuki",
           2020
          ],
          [
           "Maruti Suzuki",
           2011
          ],
          [
           "Maruti Suzuki",
           2011
          ],
          [
           "Hyundai",
           2016
          ],
          [
           "Hyundai",
           2015
          ],
          [
           "Maruti Suzuki",
           2014
          ],
          [
           "Volkswagen",
           2011
          ],
          [
           "Maruti Suzuki",
           2015
          ],
          [
           "Renault",
           2021
          ],
          [
           "Renault",
           2021
          ],
          [
           "Maruti Suzuki",
           2014
          ],
          [
           "Maruti Suzuki",
           2012
          ],
          [
           "Maruti Suzuki",
           2017
          ],
          [
           "Hyundai",
           2018
          ],
          [
           "Honda",
           2016
          ],
          [
           "Maruti Suzuki",
           2021
          ],
          [
           "Maruti Suzuki",
           2012
          ],
          [
           "Honda",
           2016
          ],
          [
           "Ford",
           2016
          ],
          [
           "Hyundai",
           2014
          ],
          [
           "Hyundai",
           2018
          ],
          [
           "Renault",
           2019
          ],
          [
           "Hyundai",
           2011
          ],
          [
           "Kia",
           2020
          ],
          [
           "Maruti Suzuki",
           2019
          ],
          [
           "Honda",
           2019
          ],
          [
           "Kia",
           2020
          ],
          [
           "Hyundai",
           2011
          ],
          [
           "Maruti Suzuki",
           2019
          ],
          [
           "Maruti Suzuki",
           2017
          ],
          [
           "Hyundai",
           2015
          ],
          [
           "Maruti Suzuki",
           2018
          ],
          [
           "Hyundai",
           2014
          ],
          [
           "Renault",
           2020
          ],
          [
           "Renault",
           2019
          ],
          [
           "Hyundai",
           2015
          ],
          [
           "Maruti Suzuki",
           2012
          ],
          [
           "Hyundai",
           2013
          ],
          [
           "Toyota",
           2012
          ],
          [
           "Hyundai",
           2013
          ],
          [
           "Maruti Suzuki",
           2011
          ],
          [
           "Renault",
           2019
          ],
          [
           "Toyota",
           2020
          ],
          [
           "Toyota",
           2020
          ],
          [
           "Toyota",
           2020
          ],
          [
           "Toyota",
           2020
          ],
          [
           "Toyota",
           2019
          ],
          [
           "Toyota",
           2019
          ],
          [
           "Toyota",
           2019
          ],
          [
           "Toyota",
           2019
          ],
          [
           "Hyundai",
           2014
          ],
          [
           "Kia",
           2020
          ],
          [
           "Toyota",
           2020
          ],
          [
           "Toyota",
           2020
          ],
          [
           "Toyota",
           2020
          ],
          [
           "Toyota",
           2020
          ],
          [
           "Maruti Suzuki",
           2019
          ],
          [
           "Maruti Suzuki",
           2011
          ],
          [
           "Renault",
           2019
          ],
          [
           "Hyundai",
           2014
          ],
          [
           "Renault",
           2021
          ],
          [
           "Maruti Suzuki",
           2021
          ],
          [
           "Maruti Suzuki",
           2014
          ],
          [
           "Skoda",
           2012
          ],
          [
           "Hyundai",
           2018
          ],
          [
           "Hyundai",
           2017
          ],
          [
           "Honda",
           2011
          ],
          [
           "Hyundai",
           2019
          ],
          [
           "Renault",
           2020
          ],
          [
           "Maruti Suzuki",
           2011
          ],
          [
           "Hyundai",
           2015
          ],
          [
           "Hyundai",
           2014
          ],
          [
           "Maruti Suzuki",
           2013
          ],
          [
           "Hyundai",
           2020
          ],
          [
           "Maruti Suzuki",
           2020
          ],
          [
           "Toyota",
           2020
          ],
          [
           "Toyota",
           2020
          ],
          [
           "Toyota",
           2020
          ],
          [
           "Toyota",
           2020
          ],
          [
           "MG Motors",
           2019
          ],
          [
           "Maruti Suzuki",
           2020
          ],
          [
           "Maruti Suzuki",
           2015
          ],
          [
           "Maruti Suzuki",
           2014
          ],
          [
           "Ford",
           2020
          ],
          [
           "Renault",
           2015
          ],
          [
           "Maruti Suzuki",
           2011
          ],
          [
           "Maruti Suzuki",
           2014
          ],
          [
           "Maruti Suzuki",
           2011
          ],
          [
           "Ford",
           2017
          ],
          [
           "Hyundai",
           2018
          ],
          [
           "Honda",
           2015
          ],
          [
           "Hyundai",
           2015
          ],
          [
           "Hyundai",
           2017
          ],
          [
           "Datsun",
           2014
          ],
          [
           "Volkswagen",
           2013
          ],
          [
           "MG Motors",
           2019
          ],
          [
           "Maruti Suzuki",
           2016
          ],
          [
           "Honda",
           2017
          ],
          [
           "Hyundai",
           2017
          ],
          [
           "Ford",
           2017
          ],
          [
           "Maruti Suzuki",
           2013
          ],
          [
           "Honda",
           2015
          ],
          [
           "Hyundai",
           2020
          ],
          [
           "MG Motors",
           2020
          ],
          [
           "Maruti Suzuki",
           2013
          ],
          [
           "Maruti Suzuki",
           2012
          ],
          [
           "Toyota",
           2012
          ],
          [
           "Toyota",
           2012
          ],
          [
           "Toyota",
           2012
          ],
          [
           "Toyota",
           2012
          ],
          [
           "Hyundai",
           2017
          ],
          [
           "Hyundai",
           2014
          ],
          [
           "Hyundai",
           2011
          ],
          [
           "Maruti Suzuki",
           2018
          ],
          [
           "Hyundai",
           2012
          ],
          [
           "MG Motors",
           2019
          ],
          [
           "Maruti Suzuki",
           2012
          ],
          [
           "Maruti Suzuki",
           2012
          ],
          [
           "Honda",
           2017
          ],
          [
           "Maruti Suzuki",
           2013
          ],
          [
           "Ford",
           2013
          ],
          [
           "Ford",
           2014
          ],
          [
           "Maruti Suzuki",
           2016
          ],
          [
           "Maruti Suzuki",
           2013
          ],
          [
           "MG Motors",
           2019
          ],
          [
           "Maruti Suzuki",
           2014
          ],
          [
           "Maruti Suzuki",
           2011
          ],
          [
           "Hyundai",
           2014
          ],
          [
           "Ford",
           2018
          ],
          [
           "Hyundai",
           2011
          ],
          [
           "Ford",
           2018
          ],
          [
           "Maruti Suzuki",
           2014
          ],
          [
           "Hyundai",
           2011
          ],
          [
           "Hyundai",
           2014
          ],
          [
           "Renault",
           2019
          ],
          [
           "Hyundai",
           2012
          ],
          [
           "Honda",
           2017
          ],
          [
           "Honda",
           2019
          ],
          [
           "Renault",
           2021
          ],
          [
           "Hyundai",
           2016
          ],
          [
           "Honda",
           2018
          ],
          [
           "Hyundai",
           2018
          ],
          [
           "Maruti Suzuki",
           2019
          ],
          [
           "Maruti Suzuki",
           2019
          ],
          [
           "Maruti Suzuki",
           2019
          ],
          [
           "Maruti Suzuki",
           2019
          ],
          [
           "Ford",
           2017
          ],
          [
           "Hyundai",
           2018
          ],
          [
           "Honda",
           2020
          ],
          [
           "Chevrolet",
           2013
          ],
          [
           "Hyundai",
           2015
          ],
          [
           "Hyundai",
           2017
          ],
          [
           "Hyundai",
           2020
          ],
          [
           "Maruti Suzuki",
           2015
          ],
          [
           "Maruti Suzuki",
           2017
          ],
          [
           "Honda",
           2014
          ],
          [
           "Hyundai",
           2014
          ],
          [
           "Kia",
           2019
          ],
          [
           "Maruti Suzuki",
           2018
          ],
          [
           "Maruti Suzuki",
           2013
          ],
          [
           "Maruti Suzuki",
           2013
          ],
          [
           "Maruti Suzuki",
           2013
          ],
          [
           "Maruti Suzuki",
           2013
          ],
          [
           "Maruti Suzuki",
           2018
          ],
          [
           "Maruti Suzuki",
           2016
          ],
          [
           "Ford",
           2019
          ],
          [
           "Honda",
           2013
          ],
          [
           "Maruti Suzuki",
           2016
          ],
          [
           "Hyundai",
           2018
          ],
          [
           "Renault",
           2018
          ],
          [
           "Hyundai",
           2017
          ],
          [
           "Hyundai",
           2013
          ],
          [
           "Hyundai",
           2013
          ],
          [
           "Maruti Suzuki",
           2017
          ],
          [
           "Maruti Suzuki",
           2018
          ],
          [
           "Maruti Suzuki",
           2021
          ],
          [
           "Maruti Suzuki",
           2016
          ],
          [
           "Hyundai",
           2018
          ],
          [
           "Hyundai",
           2017
          ],
          [
           "Honda",
           2019
          ],
          [
           "Tata",
           2021
          ],
          [
           "Honda",
           2019
          ],
          [
           "Tata",
           2022
          ],
          [
           "Hyundai",
           2017
          ],
          [
           "Hyundai",
           2021
          ],
          [
           "Toyota",
           2020
          ],
          [
           "Toyota",
           2020
          ],
          [
           "Toyota",
           2020
          ],
          [
           "Toyota",
           2020
          ],
          [
           "Maruti Suzuki",
           2019
          ],
          [
           "Maruti Suzuki",
           2020
          ],
          [
           "Maruti Suzuki",
           2015
          ],
          [
           "Hyundai",
           2016
          ],
          [
           "Maruti Suzuki",
           2021
          ],
          [
           "Maruti Suzuki",
           2019
          ],
          [
           "Maruti Suzuki",
           2019
          ],
          [
           "Maruti Suzuki",
           2019
          ],
          [
           "Maruti Suzuki",
           2018
          ],
          [
           "Hyundai",
           2019
          ],
          [
           "Maruti Suzuki",
           2019
          ],
          [
           "Hyundai",
           2019
          ],
          [
           "Maruti Suzuki",
           2021
          ],
          [
           "Maruti Suzuki",
           2020
          ],
          [
           "Hyundai",
           2014
          ],
          [
           "Hyundai",
           2017
          ],
          [
           "Maruti Suzuki",
           2019
          ],
          [
           "Hyundai",
           2017
          ],
          [
           "Hyundai",
           2020
          ],
          [
           "Hyundai",
           2014
          ],
          [
           "Maruti Suzuki",
           2016
          ],
          [
           "Honda",
           2018
          ],
          [
           "Renault",
           2019
          ],
          [
           "Hyundai",
           2020
          ],
          [
           "Toyota",
           2021
          ],
          [
           "Toyota",
           2021
          ],
          [
           "Toyota",
           2021
          ],
          [
           "Toyota",
           2021
          ],
          [
           "Honda",
           2020
          ],
          [
           "Honda",
           2016
          ],
          [
           "Maruti Suzuki",
           2019
          ],
          [
           "Hyundai",
           2017
          ],
          [
           "Maruti Suzuki",
           2020
          ],
          [
           "Hyundai",
           2019
          ],
          [
           "Maruti Suzuki",
           2016
          ],
          [
           "Honda",
           2017
          ],
          [
           "Maruti Suzuki",
           2021
          ],
          [
           "Hyundai",
           2016
          ],
          [
           "Maruti Suzuki",
           2020
          ],
          [
           "Maruti Suzuki",
           2019
          ],
          [
           "Maruti Suzuki",
           2019
          ],
          [
           "Hyundai",
           2021
          ],
          [
           "Maruti Suzuki",
           2015
          ],
          [
           "Maruti Suzuki",
           2018
          ],
          [
           "Hyundai",
           2017
          ],
          [
           "Hyundai",
           2018
          ],
          [
           "Toyota",
           2018
          ],
          [
           "Toyota",
           2018
          ],
          [
           "Toyota",
           2018
          ],
          [
           "Toyota",
           2018
          ],
          [
           "Maruti Suzuki",
           2016
          ],
          [
           "Hyundai",
           2016
          ],
          [
           "Hyundai",
           2015
          ],
          [
           "Hyundai",
           2016
          ],
          [
           "Hyundai",
           2018
          ],
          [
           "Maruti Suzuki",
           2011
          ],
          [
           "Renault",
           2021
          ],
          [
           "Maruti Suzuki",
           2019
          ],
          [
           "Volkswagen",
           2016
          ],
          [
           "Maruti Suzuki",
           2019
          ],
          [
           "Maruti Suzuki",
           2019
          ],
          [
           "Maruti Suzuki",
           2019
          ],
          [
           "Maruti Suzuki",
           2019
          ],
          [
           "Honda",
           2016
          ],
          [
           "Maruti Suzuki",
           2020
          ],
          [
           "Maruti Suzuki",
           2020
          ],
          [
           "Nissan",
           2022
          ],
          [
           "Maruti Suzuki",
           2015
          ],
          [
           "Hyundai",
           2020
          ],
          [
           "Hyundai",
           2020
          ],
          [
           "Honda",
           2015
          ],
          [
           "Volkswagen",
           2016
          ],
          [
           "Maruti Suzuki",
           2016
          ],
          [
           "Hyundai",
           2017
          ],
          [
           "Maruti Suzuki",
           2019
          ],
          [
           "Toyota",
           2011
          ],
          [
           "Hyundai",
           2019
          ],
          [
           "Hyundai",
           2017
          ],
          [
           "Maruti Suzuki",
           2019
          ],
          [
           "Hyundai",
           2021
          ],
          [
           "Hyundai",
           2011
          ],
          [
           "Maruti Suzuki",
           2015
          ],
          [
           "Maruti Suzuki",
           2017
          ],
          [
           "Hyundai",
           2015
          ],
          [
           "Hyundai",
           2014
          ],
          [
           "Hyundai",
           2018
          ],
          [
           "Hyundai",
           2020
          ],
          [
           "Maruti Suzuki",
           2021
          ],
          [
           "Maruti Suzuki",
           2021
          ],
          [
           "Volkswagen",
           2016
          ],
          [
           "Hyundai",
           2012
          ],
          [
           "Maruti Suzuki",
           2018
          ],
          [
           "Maruti Suzuki",
           2011
          ],
          [
           "Ford",
           2011
          ],
          [
           "Hyundai",
           2015
          ],
          [
           "Renault",
           2019
          ],
          [
           "Honda",
           2014
          ],
          [
           "Renault",
           2021
          ],
          [
           "Hyundai",
           2017
          ],
          [
           "Datsun",
           2015
          ],
          [
           "Maruti Suzuki",
           2015
          ],
          [
           "Hyundai",
           2020
          ],
          [
           "Maruti Suzuki",
           2018
          ],
          [
           "Maruti Suzuki",
           2016
          ],
          [
           "Renault",
           2021
          ],
          [
           "Honda",
           2017
          ],
          [
           "Hyundai",
           2017
          ],
          [
           "Maruti Suzuki",
           2014
          ],
          [
           "Maruti Suzuki",
           2013
          ],
          [
           "Maruti Suzuki",
           2021
          ],
          [
           "Maruti Suzuki",
           2020
          ],
          [
           "Hyundai",
           2015
          ],
          [
           "Renault",
           2021
          ],
          [
           "Maruti Suzuki",
           2018
          ],
          [
           "Toyota",
           2011
          ],
          [
           "Toyota",
           2011
          ],
          [
           "Toyota",
           2011
          ],
          [
           "Toyota",
           2011
          ],
          [
           "Maruti Suzuki",
           2021
          ],
          [
           "Hyundai",
           2014
          ],
          [
           "Maruti Suzuki",
           2020
          ],
          [
           "Ford",
           2018
          ],
          [
           "Maruti Suzuki",
           2014
          ],
          [
           "Hyundai",
           2017
          ],
          [
           "Hyundai",
           2017
          ],
          [
           "Hyundai",
           2017
          ],
          [
           "Hyundai",
           2017
          ],
          [
           "Hyundai",
           2017
          ],
          [
           "Honda",
           2018
          ],
          [
           "Hyundai",
           2018
          ],
          [
           "Hyundai",
           2017
          ],
          [
           "Hyundai",
           2018
          ],
          [
           "Hyundai",
           2020
          ],
          [
           "Hyundai",
           2018
          ],
          [
           "Maruti Suzuki",
           2019
          ],
          [
           "Maruti Suzuki",
           2014
          ],
          [
           "Honda",
           2020
          ],
          [
           "Hyundai",
           2013
          ],
          [
           "Hyundai",
           2019
          ],
          [
           "Volkswagen",
           2016
          ],
          [
           "Ford",
           2019
          ],
          [
           "Honda",
           2016
          ],
          [
           "Maruti Suzuki",
           2020
          ],
          [
           "Volkswagen",
           2013
          ],
          [
           "Skoda",
           2014
          ],
          [
           "Maruti Suzuki",
           2019
          ],
          [
           "Volkswagen",
           2012
          ],
          [
           "Hyundai",
           2017
          ],
          [
           "Honda",
           2018
          ],
          [
           "Chevrolet",
           2014
          ],
          [
           "Volkswagen",
           2016
          ],
          [
           "Nissan",
           2015
          ],
          [
           "Ford",
           2019
          ],
          [
           "Tata",
           2013
          ],
          [
           "Hyundai",
           2019
          ],
          [
           "Volkswagen",
           2017
          ],
          [
           "Maruti Suzuki",
           2019
          ],
          [
           "Maruti Suzuki",
           2018
          ],
          [
           "Renault",
           2020
          ],
          [
           "Maruti Suzuki",
           2019
          ],
          [
           "Volkswagen",
           2018
          ],
          [
           "Hyundai",
           2017
          ],
          [
           "Hyundai",
           2017
          ],
          [
           "Hyundai",
           2017
          ],
          [
           "Hyundai",
           2017
          ],
          [
           "Hyundai",
           2012
          ],
          [
           "Hyundai",
           2011
          ],
          [
           "Ford",
           2020
          ],
          [
           "Hyundai",
           2020
          ],
          [
           "Hyundai",
           2013
          ],
          [
           "Ford",
           2019
          ],
          [
           "MG Motors",
           2019
          ],
          [
           "Maruti Suzuki",
           2017
          ],
          [
           "Maruti Suzuki",
           2013
          ],
          [
           "Maruti Suzuki",
           2014
          ],
          [
           "Ford",
           2018
          ],
          [
           "Maruti Suzuki",
           2017
          ],
          [
           "Maruti Suzuki",
           2018
          ],
          [
           "Hyundai",
           2018
          ],
          [
           "Maruti Suzuki",
           2019
          ],
          [
           "Maruti Suzuki",
           2017
          ],
          [
           "Hyundai",
           2018
          ],
          [
           "Hyundai",
           2019
          ],
          [
           "Honda",
           2015
          ],
          [
           "Maruti Suzuki",
           2021
          ],
          [
           "Maruti Suzuki",
           2020
          ],
          [
           "Renault",
           2018
          ],
          [
           "Renault",
           2017
          ],
          [
           "Maruti Suzuki",
           2018
          ],
          [
           "Maruti Suzuki",
           2021
          ],
          [
           "Maruti Suzuki",
           2020
          ],
          [
           "Maruti Suzuki",
           2019
          ],
          [
           "Renault",
           2018
          ],
          [
           "Maruti Suzuki",
           2017
          ],
          [
           "Hyundai",
           2018
          ],
          [
           "Hyundai",
           2019
          ],
          [
           "Hyundai",
           2014
          ],
          [
           "Maruti Suzuki",
           2018
          ]
         ],
         "hovertemplate": "Fuel_Type=petrol<br>Mileage (in km)=%{x}<br>Price=%{y}<br>Make=%{customdata[0]}<br>Make_Year=%{customdata[1]}<extra></extra>",
         "legendgroup": "petrol",
         "marker": {
          "color": "#EF553B",
          "symbol": "circle"
         },
         "mode": "markers",
         "name": "petrol",
         "orientation": "v",
         "showlegend": true,
         "type": "scatter",
         "x": [
          20305,
          29540,
          35680,
          25126,
          52261,
          28108,
          16304,
          26350,
          35400,
          32395,
          31994,
          13768,
          3174,
          35913,
          19056,
          32492,
          22598,
          17791,
          26910,
          28562,
          40345,
          19550,
          54233,
          33113,
          79565,
          10651,
          27664,
          13389,
          30797,
          48947,
          37315,
          11047,
          24858,
          4839,
          16329,
          57286,
          3679,
          96077,
          30406,
          60873,
          24811,
          56275,
          7434,
          10730,
          21996,
          3474,
          24360,
          35387,
          63035,
          26190,
          47013,
          11734,
          27902,
          66674,
          13554,
          1540,
          12285,
          80408,
          83377,
          21887,
          40498,
          18065,
          70958,
          55617,
          54744,
          18915,
          97573,
          4776,
          24676,
          49775,
          34075,
          14414,
          35796,
          38199,
          8197,
          27626,
          48106,
          12031,
          5992,
          20427,
          8560,
          58693,
          18282,
          17214,
          10381,
          28831,
          72359,
          36922,
          72356,
          77836,
          68269,
          62659,
          59847,
          33439,
          30378,
          5129,
          8873,
          16384,
          16123,
          47487,
          25632,
          33269,
          50735,
          6491,
          16760,
          24860,
          20685,
          2163,
          18170,
          66699,
          19958,
          15924,
          24428,
          51187,
          47767,
          33433,
          40635,
          25835,
          30752,
          16332,
          20930,
          23164,
          28618,
          88695,
          7858,
          88827,
          7697,
          31271,
          17121,
          60287,
          8265,
          17056,
          60629,
          32602,
          26116,
          90058,
          63676,
          43918,
          6301,
          29907,
          5475,
          4305,
          37837,
          11074,
          15748,
          14593,
          30228,
          44897,
          55995,
          9936,
          18790,
          64323,
          32849,
          22777,
          37652,
          11031,
          9752,
          8249,
          10514,
          24136,
          18638,
          93653,
          31330,
          49014,
          56221,
          20894,
          9034,
          63746,
          85602,
          59054,
          38198,
          92118,
          72801,
          38592,
          22379,
          44822,
          13069,
          96939,
          21903,
          9468,
          60209,
          57503,
          45560,
          45008,
          51210,
          54287,
          91039,
          49435,
          9686,
          12092,
          27053,
          27053,
          27053,
          27053,
          28833,
          48606,
          96236,
          37258,
          33869,
          91796,
          45607,
          1117,
          24745,
          75639,
          56387,
          23724,
          6900,
          43785,
          56207,
          94315,
          29492,
          21365,
          56221,
          27185,
          63170,
          44736,
          13111,
          7227,
          45880,
          36850,
          53160,
          17790,
          24218,
          11304,
          35703,
          45378,
          45378,
          45378,
          45378,
          28557,
          14853,
          70245,
          22703,
          36069,
          5227,
          27803,
          47154,
          84488,
          16348,
          90078,
          56096,
          65284,
          68645,
          33231,
          43953,
          36422,
          78251,
          48481,
          37746,
          50872,
          25517,
          74814,
          63937,
          11499,
          15221,
          35461,
          74652,
          44746,
          92092,
          26653,
          26653,
          26653,
          26653,
          58748,
          90147,
          25905,
          76890,
          32490,
          13505,
          21564,
          22849,
          24374,
          31912,
          60578,
          95065,
          7342,
          9285,
          53848,
          70568,
          61885,
          16240,
          62840,
          74710,
          19722,
          14359,
          48670,
          70015,
          41517,
          14818,
          46935,
          30590,
          62805,
          47123,
          50437,
          49930,
          46485,
          76306,
          80743,
          54836,
          32170,
          62193,
          40097,
          44188,
          50229,
          20156,
          29122,
          71532,
          37702,
          30876,
          92227,
          24747,
          26671,
          40632,
          59010,
          24732,
          14077,
          19600,
          25413,
          53015,
          63279,
          73591,
          79503,
          5564,
          71696,
          44787,
          68295,
          38868,
          40411,
          17156,
          12761,
          10563,
          13948,
          6165,
          44478,
          85895,
          42187,
          45000,
          14861,
          61455,
          23697,
          84623,
          36822,
          49985,
          25411,
          26198,
          21812,
          15591,
          50821,
          57167,
          62904,
          13074,
          40959,
          18300,
          32419,
          36707,
          69077,
          81673,
          22127,
          43763,
          45887,
          68859,
          24353,
          53467,
          18732,
          24631,
          35425,
          39807,
          41667,
          28840,
          69402,
          53613,
          27562,
          14952,
          71380,
          34491,
          88321,
          11275,
          84391,
          93004,
          23861,
          43877,
          76926,
          94389,
          64291,
          25068,
          27215,
          62692,
          39742,
          27876,
          16257,
          24630,
          74834,
          54857,
          59394,
          8617,
          29028,
          4878,
          82262,
          56696,
          40249,
          29169,
          48449,
          55512,
          25388,
          17120,
          25170,
          67154,
          40078,
          10100,
          23326,
          56762,
          6363,
          49799,
          94873,
          69414,
          40450,
          29948,
          22356,
          77554,
          18499,
          27462,
          53948,
          20280,
          75713,
          35607,
          75728,
          26176,
          19949,
          68363,
          12256,
          16554,
          38156,
          66016,
          24862,
          67312,
          68842,
          71460,
          33661,
          33394,
          33394,
          33394,
          33394,
          9242,
          9242,
          9242,
          9242,
          88267,
          25450,
          37283,
          37283,
          37283,
          37283,
          41804,
          72631,
          37865,
          72514,
          21304,
          7881,
          39400,
          52326,
          24310,
          25966,
          90745,
          21628,
          43164,
          16061,
          65025,
          26974,
          23778,
          7594,
          21075,
          7122,
          7122,
          7122,
          7122,
          25219,
          26246,
          93570,
          70563,
          14965,
          33390,
          53349,
          87635,
          77919,
          84118,
          22735,
          45754,
          99001,
          85933,
          55890,
          88105,
          20761,
          56280,
          37043,
          29759,
          28559,
          18214,
          42933,
          18146,
          26994,
          47642,
          67041,
          42200,
          42200,
          42200,
          42200,
          48583,
          98109,
          70581,
          64194,
          23227,
          24564,
          39719,
          46627,
          45868,
          68876,
          47068,
          48060,
          80307,
          29217,
          28787,
          57964,
          54318,
          55319,
          39105,
          57259,
          21089,
          7779,
          48267,
          42290,
          23160,
          41191,
          34480,
          20604,
          9015,
          56348,
          16006,
          27617,
          17246,
          17246,
          17246,
          17246,
          73428,
          25198,
          7981,
          52501,
          91933,
          39437,
          37005,
          23217,
          46289,
          55410,
          38147,
          23801,
          16123,
          22801,
          22801,
          22801,
          22801,
          16373,
          31207,
          60197,
          73382,
          62811,
          29086,
          12582,
          40158,
          50665,
          42283,
          79767,
          48524,
          4704,
          44272,
          14197,
          57359,
          13791,
          5389,
          17691,
          19734,
          16150,
          21557,
          30130,
          30130,
          30130,
          30130,
          24618,
          4337,
          74114,
          52631,
          5744,
          18988,
          18066,
          32801,
          46517,
          44781,
          27409,
          23505,
          34872,
          7401,
          51531,
          40187,
          28967,
          69302,
          14502,
          38213,
          54635,
          32939,
          23342,
          32464,
          6738,
          6738,
          6738,
          6738,
          18402,
          22856,
          15251,
          57394,
          26856,
          9421,
          56204,
          16936,
          15443,
          49826,
          7140,
          26533,
          15928,
          14133,
          29978,
          32454,
          18411,
          42101,
          73664,
          73664,
          73664,
          73664,
          69045,
          25382,
          68611,
          30045,
          11225,
          67463,
          30322,
          15878,
          44885,
          31171,
          31171,
          31171,
          31171,
          43992,
          17050,
          6470,
          3832,
          47060,
          37489,
          30169,
          53600,
          26094,
          99144,
          49335,
          13197,
          50857,
          12156,
          39525,
          27951,
          25975,
          89303,
          24655,
          39484,
          32754,
          66963,
          33581,
          49130,
          4773,
          14560,
          46922,
          64378,
          41244,
          60256,
          84494,
          89133,
          60983,
          61881,
          32340,
          37237,
          73892,
          68796,
          12699,
          23745,
          38717,
          16742,
          65581,
          39427,
          52004,
          40545,
          15836,
          11212,
          52501,
          6052,
          20326,
          50009,
          50009,
          50009,
          50009,
          15113,
          50071,
          9832,
          43273,
          44193,
          36208,
          36208,
          36208,
          36208,
          43613,
          46006,
          35015,
          55670,
          38961,
          41843,
          13846,
          16712,
          44815,
          13209,
          48721,
          8842,
          64313,
          10370,
          60656,
          12433,
          53735,
          46103,
          2174,
          64878,
          76978,
          33454,
          45080,
          81709,
          48656,
          17504,
          33744,
          18398,
          41757,
          25418,
          23606,
          18798,
          24105,
          26394,
          22538,
          22538,
          22538,
          22538,
          34060,
          46251,
          6886,
          26020,
          33440,
          11800,
          7339,
          41465,
          67020,
          23885,
          78061,
          26203,
          16491,
          35623,
          15508,
          34004,
          57046,
          22546,
          49536,
          10303,
          27437,
          6603,
          16556,
          25626,
          9384,
          6104,
          21992,
          54137,
          33258,
          23869,
          14831,
          52846,
          41176
         ],
         "xaxis": "x",
         "y": [
          682000,
          793000,
          414000,
          515000,
          604000,
          316000,
          710000,
          392000,
          613000,
          969000,
          666000,
          1039000,
          858000,
          680000,
          625000,
          567000,
          371000,
          587000,
          396000,
          554000,
          984000,
          507000,
          586000,
          639000,
          237000,
          536000,
          456000,
          1107000,
          571000,
          587000,
          629000,
          718000,
          396000,
          877000,
          774000,
          554000,
          829000,
          530000,
          367000,
          550000,
          660000,
          998000,
          1537000,
          908000,
          508000,
          417000,
          980000,
          435000,
          554000,
          481000,
          442000,
          530000,
          759000,
          455000,
          1138000,
          920000,
          1742000,
          568000,
          419000,
          476000,
          577000,
          541000,
          730000,
          622000,
          625000,
          609000,
          571000,
          412000,
          638000,
          590000,
          694000,
          1364000,
          783000,
          628000,
          885000,
          724000,
          470000,
          1085000,
          620000,
          659000,
          953000,
          1173000,
          457000,
          461000,
          902000,
          791000,
          506000,
          594000,
          362000,
          544000,
          513000,
          737000,
          664000,
          575000,
          742000,
          1071000,
          1044000,
          392000,
          626000,
          320000,
          579000,
          608000,
          519000,
          869000,
          522000,
          699000,
          510000,
          512000,
          658000,
          369000,
          966000,
          932000,
          388000,
          489000,
          926000,
          1709000,
          1039000,
          1770000,
          1163000,
          1349000,
          1705000,
          1039000,
          950000,
          748000,
          820000,
          645000,
          570000,
          1764000,
          677000,
          837000,
          1826000,
          523000,
          725000,
          711000,
          974000,
          608000,
          273000,
          304000,
          361000,
          365000,
          690000,
          749000,
          579000,
          686000,
          679000,
          400000,
          612000,
          1644000,
          342000,
          790000,
          360000,
          276000,
          352000,
          363000,
          333000,
          735000,
          790000,
          660000,
          678000,
          857000,
          483000,
          248000,
          759000,
          336000,
          677000,
          711000,
          1078000,
          348000,
          659000,
          501000,
          1741000,
          829000,
          496000,
          269000,
          927000,
          451000,
          532000,
          338000,
          557000,
          653000,
          898000,
          651000,
          503000,
          330000,
          395000,
          458000,
          514000,
          512000,
          2941000,
          1346000,
          844000,
          844000,
          844000,
          844000,
          789000,
          570000,
          639000,
          470000,
          454000,
          618000,
          548000,
          710000,
          621000,
          748000,
          368000,
          1137000,
          699000,
          544000,
          611000,
          534000,
          584000,
          827000,
          580000,
          746000,
          452000,
          239000,
          453000,
          780000,
          694000,
          698000,
          426000,
          989000,
          940000,
          556000,
          464000,
          589000,
          589000,
          589000,
          589000,
          574000,
          655000,
          920000,
          488000,
          548000,
          528000,
          527000,
          952000,
          340000,
          765000,
          420000,
          486000,
          348000,
          451000,
          403000,
          338000,
          806000,
          634000,
          654000,
          882000,
          1196000,
          669000,
          589000,
          628000,
          812000,
          914000,
          530000,
          498000,
          403000,
          380000,
          1092000,
          1092000,
          1092000,
          1092000,
          457000,
          813000,
          820000,
          502000,
          414000,
          391000,
          433000,
          372000,
          384000,
          784000,
          971000,
          655000,
          539000,
          470000,
          415000,
          368000,
          457000,
          894000,
          338000,
          342000,
          986000,
          674000,
          350000,
          1213000,
          275000,
          533000,
          824000,
          805000,
          1098000,
          795000,
          406000,
          720000,
          732000,
          406000,
          622000,
          742000,
          699000,
          426000,
          284000,
          574000,
          605000,
          1104000,
          451000,
          633000,
          943000,
          709000,
          402000,
          646000,
          334000,
          487000,
          410000,
          766000,
          1647000,
          311000,
          391000,
          323000,
          598000,
          589000,
          464000,
          472000,
          353000,
          402000,
          977000,
          358000,
          399000,
          836000,
          803000,
          410000,
          795000,
          1266000,
          343000,
          362000,
          300000,
          484000,
          1001000,
          384000,
          858000,
          482000,
          581000,
          320000,
          1176000,
          1274000,
          362000,
          489000,
          815000,
          1064000,
          389000,
          715000,
          317000,
          729000,
          396000,
          453000,
          281000,
          628000,
          713000,
          338000,
          445000,
          447000,
          620000,
          524000,
          1047000,
          444000,
          372000,
          352000,
          392000,
          489000,
          551000,
          688000,
          1549000,
          710000,
          308000,
          787000,
          638000,
          528000,
          606000,
          442000,
          859000,
          514000,
          663000,
          568000,
          407000,
          824000,
          739000,
          485000,
          691000,
          512000,
          755000,
          452000,
          301000,
          262000,
          308000,
          1023000,
          635000,
          1015000,
          255000,
          396000,
          1011000,
          661000,
          450000,
          435000,
          331000,
          830000,
          485000,
          405000,
          347000,
          369000,
          768000,
          578000,
          417000,
          349000,
          576000,
          629000,
          423000,
          737000,
          425000,
          330000,
          1369000,
          436000,
          883000,
          1610000,
          400000,
          429000,
          408000,
          408000,
          739000,
          461000,
          732000,
          701000,
          406000,
          271000,
          293000,
          368000,
          447000,
          387000,
          448000,
          1051000,
          1051000,
          1051000,
          1051000,
          914000,
          914000,
          914000,
          914000,
          598000,
          1589000,
          1027000,
          1027000,
          1027000,
          1027000,
          863000,
          315000,
          433000,
          454000,
          807000,
          734000,
          449000,
          538000,
          883000,
          544000,
          485000,
          995000,
          752000,
          266000,
          551000,
          477000,
          523000,
          1422000,
          430000,
          894000,
          894000,
          894000,
          894000,
          1700000,
          971000,
          593000,
          499000,
          728000,
          287000,
          373000,
          404000,
          318000,
          727000,
          447000,
          605000,
          506000,
          610000,
          290000,
          542000,
          1720000,
          523000,
          745000,
          854000,
          788000,
          460000,
          638000,
          1458000,
          1774000,
          455000,
          314000,
          423000,
          423000,
          423000,
          423000,
          1100000,
          411000,
          340000,
          405000,
          365000,
          1700000,
          422000,
          412000,
          878000,
          429000,
          708000,
          678000,
          326000,
          336000,
          1589000,
          335000,
          368000,
          439000,
          1066000,
          328000,
          555000,
          434000,
          348000,
          447000,
          428000,
          455000,
          1178000,
          765000,
          885000,
          658000,
          1240000,
          752000,
          869000,
          869000,
          869000,
          869000,
          833000,
          1171000,
          840000,
          273000,
          603000,
          521000,
          1030000,
          511000,
          389000,
          563000,
          465000,
          1708000,
          751000,
          306000,
          306000,
          306000,
          306000,
          771000,
          823000,
          980000,
          571000,
          614000,
          843000,
          410000,
          427000,
          484000,
          622000,
          423000,
          812000,
          549000,
          525000,
          709000,
          744000,
          982000,
          834000,
          880000,
          871000,
          594000,
          1366000,
          785000,
          785000,
          785000,
          785000,
          718000,
          749000,
          320000,
          860000,
          799000,
          625000,
          411000,
          822000,
          784000,
          1165000,
          396000,
          770000,
          515000,
          426000,
          541000,
          390000,
          792000,
          1238000,
          769000,
          635000,
          481000,
          1185000,
          489000,
          1454000,
          847000,
          847000,
          847000,
          847000,
          1411000,
          625000,
          999000,
          677000,
          495000,
          761000,
          647000,
          877000,
          734000,
          661000,
          446000,
          814000,
          391000,
          1034000,
          350000,
          763000,
          526000,
          571000,
          1011000,
          1011000,
          1011000,
          1011000,
          699000,
          726000,
          517000,
          573000,
          454000,
          274000,
          926000,
          465000,
          663000,
          812000,
          812000,
          812000,
          812000,
          896000,
          978000,
          541000,
          1106000,
          464000,
          994000,
          809000,
          544000,
          607000,
          754000,
          618000,
          814000,
          406000,
          997000,
          523000,
          425000,
          1026000,
          353000,
          490000,
          425000,
          548000,
          465000,
          505000,
          1099000,
          459000,
          506000,
          544000,
          334000,
          764000,
          245000,
          290000,
          470000,
          430000,
          430000,
          749000,
          529000,
          279000,
          620000,
          1043000,
          401000,
          335000,
          528000,
          785000,
          700000,
          439000,
          319000,
          520000,
          499000,
          662000,
          936000,
          737000,
          439000,
          439000,
          439000,
          439000,
          543000,
          689000,
          495000,
          617000,
          469000,
          669000,
          669000,
          669000,
          669000,
          752000,
          1132000,
          760000,
          367000,
          568000,
          1448000,
          579000,
          475000,
          647000,
          1314000,
          326000,
          565000,
          553000,
          776000,
          533000,
          443000,
          524000,
          1299000,
          420000,
          450000,
          1212000,
          772000,
          335000,
          545000,
          475000,
          667000,
          188000,
          907000,
          619000,
          731000,
          395000,
          758000,
          495000,
          699000,
          651000,
          651000,
          651000,
          651000,
          332000,
          371000,
          753000,
          1117000,
          305000,
          945000,
          1799000,
          681000,
          694000,
          328000,
          935000,
          650000,
          746000,
          963000,
          784000,
          727000,
          898000,
          1040000,
          596000,
          816000,
          790000,
          1063000,
          838000,
          663000,
          590000,
          838000,
          829000,
          799000,
          722000,
          956000,
          1027000,
          736000,
          691000
         ],
         "yaxis": "y"
        },
        {
         "customdata": [
          [
           "Maruti Suzuki",
           2022
          ],
          [
           "Maruti Suzuki",
           2021
          ]
         ],
         "hovertemplate": "Fuel_Type=petrol+cng<br>Mileage (in km)=%{x}<br>Price=%{y}<br>Make=%{customdata[0]}<br>Make_Year=%{customdata[1]}<extra></extra>",
         "legendgroup": "petrol+cng",
         "marker": {
          "color": "#00cc96",
          "symbol": "circle"
         },
         "mode": "markers",
         "name": "petrol+cng",
         "orientation": "v",
         "showlegend": true,
         "type": "scatter",
         "x": [
          12076,
          17101
         ],
         "xaxis": "x",
         "y": [
          686000,
          612000
         ],
         "yaxis": "y"
        }
       ],
       "layout": {
        "legend": {
         "title": {
          "text": "Fuel_Type"
         },
         "tracegroupgap": 0
        },
        "template": {
         "data": {
          "bar": [
           {
            "error_x": {
             "color": "#2a3f5f"
            },
            "error_y": {
             "color": "#2a3f5f"
            },
            "marker": {
             "line": {
              "color": "#E5ECF6",
              "width": 0.5
             },
             "pattern": {
              "fillmode": "overlay",
              "size": 10,
              "solidity": 0.2
             }
            },
            "type": "bar"
           }
          ],
          "barpolar": [
           {
            "marker": {
             "line": {
              "color": "#E5ECF6",
              "width": 0.5
             },
             "pattern": {
              "fillmode": "overlay",
              "size": 10,
              "solidity": 0.2
             }
            },
            "type": "barpolar"
           }
          ],
          "carpet": [
           {
            "aaxis": {
             "endlinecolor": "#2a3f5f",
             "gridcolor": "white",
             "linecolor": "white",
             "minorgridcolor": "white",
             "startlinecolor": "#2a3f5f"
            },
            "baxis": {
             "endlinecolor": "#2a3f5f",
             "gridcolor": "white",
             "linecolor": "white",
             "minorgridcolor": "white",
             "startlinecolor": "#2a3f5f"
            },
            "type": "carpet"
           }
          ],
          "choropleth": [
           {
            "colorbar": {
             "outlinewidth": 0,
             "ticks": ""
            },
            "type": "choropleth"
           }
          ],
          "contour": [
           {
            "colorbar": {
             "outlinewidth": 0,
             "ticks": ""
            },
            "colorscale": [
             [
              0,
              "#0d0887"
             ],
             [
              0.1111111111111111,
              "#46039f"
             ],
             [
              0.2222222222222222,
              "#7201a8"
             ],
             [
              0.3333333333333333,
              "#9c179e"
             ],
             [
              0.4444444444444444,
              "#bd3786"
             ],
             [
              0.5555555555555556,
              "#d8576b"
             ],
             [
              0.6666666666666666,
              "#ed7953"
             ],
             [
              0.7777777777777778,
              "#fb9f3a"
             ],
             [
              0.8888888888888888,
              "#fdca26"
             ],
             [
              1,
              "#f0f921"
             ]
            ],
            "type": "contour"
           }
          ],
          "contourcarpet": [
           {
            "colorbar": {
             "outlinewidth": 0,
             "ticks": ""
            },
            "type": "contourcarpet"
           }
          ],
          "heatmap": [
           {
            "colorbar": {
             "outlinewidth": 0,
             "ticks": ""
            },
            "colorscale": [
             [
              0,
              "#0d0887"
             ],
             [
              0.1111111111111111,
              "#46039f"
             ],
             [
              0.2222222222222222,
              "#7201a8"
             ],
             [
              0.3333333333333333,
              "#9c179e"
             ],
             [
              0.4444444444444444,
              "#bd3786"
             ],
             [
              0.5555555555555556,
              "#d8576b"
             ],
             [
              0.6666666666666666,
              "#ed7953"
             ],
             [
              0.7777777777777778,
              "#fb9f3a"
             ],
             [
              0.8888888888888888,
              "#fdca26"
             ],
             [
              1,
              "#f0f921"
             ]
            ],
            "type": "heatmap"
           }
          ],
          "heatmapgl": [
           {
            "colorbar": {
             "outlinewidth": 0,
             "ticks": ""
            },
            "colorscale": [
             [
              0,
              "#0d0887"
             ],
             [
              0.1111111111111111,
              "#46039f"
             ],
             [
              0.2222222222222222,
              "#7201a8"
             ],
             [
              0.3333333333333333,
              "#9c179e"
             ],
             [
              0.4444444444444444,
              "#bd3786"
             ],
             [
              0.5555555555555556,
              "#d8576b"
             ],
             [
              0.6666666666666666,
              "#ed7953"
             ],
             [
              0.7777777777777778,
              "#fb9f3a"
             ],
             [
              0.8888888888888888,
              "#fdca26"
             ],
             [
              1,
              "#f0f921"
             ]
            ],
            "type": "heatmapgl"
           }
          ],
          "histogram": [
           {
            "marker": {
             "pattern": {
              "fillmode": "overlay",
              "size": 10,
              "solidity": 0.2
             }
            },
            "type": "histogram"
           }
          ],
          "histogram2d": [
           {
            "colorbar": {
             "outlinewidth": 0,
             "ticks": ""
            },
            "colorscale": [
             [
              0,
              "#0d0887"
             ],
             [
              0.1111111111111111,
              "#46039f"
             ],
             [
              0.2222222222222222,
              "#7201a8"
             ],
             [
              0.3333333333333333,
              "#9c179e"
             ],
             [
              0.4444444444444444,
              "#bd3786"
             ],
             [
              0.5555555555555556,
              "#d8576b"
             ],
             [
              0.6666666666666666,
              "#ed7953"
             ],
             [
              0.7777777777777778,
              "#fb9f3a"
             ],
             [
              0.8888888888888888,
              "#fdca26"
             ],
             [
              1,
              "#f0f921"
             ]
            ],
            "type": "histogram2d"
           }
          ],
          "histogram2dcontour": [
           {
            "colorbar": {
             "outlinewidth": 0,
             "ticks": ""
            },
            "colorscale": [
             [
              0,
              "#0d0887"
             ],
             [
              0.1111111111111111,
              "#46039f"
             ],
             [
              0.2222222222222222,
              "#7201a8"
             ],
             [
              0.3333333333333333,
              "#9c179e"
             ],
             [
              0.4444444444444444,
              "#bd3786"
             ],
             [
              0.5555555555555556,
              "#d8576b"
             ],
             [
              0.6666666666666666,
              "#ed7953"
             ],
             [
              0.7777777777777778,
              "#fb9f3a"
             ],
             [
              0.8888888888888888,
              "#fdca26"
             ],
             [
              1,
              "#f0f921"
             ]
            ],
            "type": "histogram2dcontour"
           }
          ],
          "mesh3d": [
           {
            "colorbar": {
             "outlinewidth": 0,
             "ticks": ""
            },
            "type": "mesh3d"
           }
          ],
          "parcoords": [
           {
            "line": {
             "colorbar": {
              "outlinewidth": 0,
              "ticks": ""
             }
            },
            "type": "parcoords"
           }
          ],
          "pie": [
           {
            "automargin": true,
            "type": "pie"
           }
          ],
          "scatter": [
           {
            "fillpattern": {
             "fillmode": "overlay",
             "size": 10,
             "solidity": 0.2
            },
            "type": "scatter"
           }
          ],
          "scatter3d": [
           {
            "line": {
             "colorbar": {
              "outlinewidth": 0,
              "ticks": ""
             }
            },
            "marker": {
             "colorbar": {
              "outlinewidth": 0,
              "ticks": ""
             }
            },
            "type": "scatter3d"
           }
          ],
          "scattercarpet": [
           {
            "marker": {
             "colorbar": {
              "outlinewidth": 0,
              "ticks": ""
             }
            },
            "type": "scattercarpet"
           }
          ],
          "scattergeo": [
           {
            "marker": {
             "colorbar": {
              "outlinewidth": 0,
              "ticks": ""
             }
            },
            "type": "scattergeo"
           }
          ],
          "scattergl": [
           {
            "marker": {
             "colorbar": {
              "outlinewidth": 0,
              "ticks": ""
             }
            },
            "type": "scattergl"
           }
          ],
          "scattermapbox": [
           {
            "marker": {
             "colorbar": {
              "outlinewidth": 0,
              "ticks": ""
             }
            },
            "type": "scattermapbox"
           }
          ],
          "scatterpolar": [
           {
            "marker": {
             "colorbar": {
              "outlinewidth": 0,
              "ticks": ""
             }
            },
            "type": "scatterpolar"
           }
          ],
          "scatterpolargl": [
           {
            "marker": {
             "colorbar": {
              "outlinewidth": 0,
              "ticks": ""
             }
            },
            "type": "scatterpolargl"
           }
          ],
          "scatterternary": [
           {
            "marker": {
             "colorbar": {
              "outlinewidth": 0,
              "ticks": ""
             }
            },
            "type": "scatterternary"
           }
          ],
          "surface": [
           {
            "colorbar": {
             "outlinewidth": 0,
             "ticks": ""
            },
            "colorscale": [
             [
              0,
              "#0d0887"
             ],
             [
              0.1111111111111111,
              "#46039f"
             ],
             [
              0.2222222222222222,
              "#7201a8"
             ],
             [
              0.3333333333333333,
              "#9c179e"
             ],
             [
              0.4444444444444444,
              "#bd3786"
             ],
             [
              0.5555555555555556,
              "#d8576b"
             ],
             [
              0.6666666666666666,
              "#ed7953"
             ],
             [
              0.7777777777777778,
              "#fb9f3a"
             ],
             [
              0.8888888888888888,
              "#fdca26"
             ],
             [
              1,
              "#f0f921"
             ]
            ],
            "type": "surface"
           }
          ],
          "table": [
           {
            "cells": {
             "fill": {
              "color": "#EBF0F8"
             },
             "line": {
              "color": "white"
             }
            },
            "header": {
             "fill": {
              "color": "#C8D4E3"
             },
             "line": {
              "color": "white"
             }
            },
            "type": "table"
           }
          ]
         },
         "layout": {
          "annotationdefaults": {
           "arrowcolor": "#2a3f5f",
           "arrowhead": 0,
           "arrowwidth": 1
          },
          "autotypenumbers": "strict",
          "coloraxis": {
           "colorbar": {
            "outlinewidth": 0,
            "ticks": ""
           }
          },
          "colorscale": {
           "diverging": [
            [
             0,
             "#8e0152"
            ],
            [
             0.1,
             "#c51b7d"
            ],
            [
             0.2,
             "#de77ae"
            ],
            [
             0.3,
             "#f1b6da"
            ],
            [
             0.4,
             "#fde0ef"
            ],
            [
             0.5,
             "#f7f7f7"
            ],
            [
             0.6,
             "#e6f5d0"
            ],
            [
             0.7,
             "#b8e186"
            ],
            [
             0.8,
             "#7fbc41"
            ],
            [
             0.9,
             "#4d9221"
            ],
            [
             1,
             "#276419"
            ]
           ],
           "sequential": [
            [
             0,
             "#0d0887"
            ],
            [
             0.1111111111111111,
             "#46039f"
            ],
            [
             0.2222222222222222,
             "#7201a8"
            ],
            [
             0.3333333333333333,
             "#9c179e"
            ],
            [
             0.4444444444444444,
             "#bd3786"
            ],
            [
             0.5555555555555556,
             "#d8576b"
            ],
            [
             0.6666666666666666,
             "#ed7953"
            ],
            [
             0.7777777777777778,
             "#fb9f3a"
            ],
            [
             0.8888888888888888,
             "#fdca26"
            ],
            [
             1,
             "#f0f921"
            ]
           ],
           "sequentialminus": [
            [
             0,
             "#0d0887"
            ],
            [
             0.1111111111111111,
             "#46039f"
            ],
            [
             0.2222222222222222,
             "#7201a8"
            ],
            [
             0.3333333333333333,
             "#9c179e"
            ],
            [
             0.4444444444444444,
             "#bd3786"
            ],
            [
             0.5555555555555556,
             "#d8576b"
            ],
            [
             0.6666666666666666,
             "#ed7953"
            ],
            [
             0.7777777777777778,
             "#fb9f3a"
            ],
            [
             0.8888888888888888,
             "#fdca26"
            ],
            [
             1,
             "#f0f921"
            ]
           ]
          },
          "colorway": [
           "#636efa",
           "#EF553B",
           "#00cc96",
           "#ab63fa",
           "#FFA15A",
           "#19d3f3",
           "#FF6692",
           "#B6E880",
           "#FF97FF",
           "#FECB52"
          ],
          "font": {
           "color": "#2a3f5f"
          },
          "geo": {
           "bgcolor": "white",
           "lakecolor": "white",
           "landcolor": "#E5ECF6",
           "showlakes": true,
           "showland": true,
           "subunitcolor": "white"
          },
          "hoverlabel": {
           "align": "left"
          },
          "hovermode": "closest",
          "mapbox": {
           "style": "light"
          },
          "paper_bgcolor": "white",
          "plot_bgcolor": "#E5ECF6",
          "polar": {
           "angularaxis": {
            "gridcolor": "white",
            "linecolor": "white",
            "ticks": ""
           },
           "bgcolor": "#E5ECF6",
           "radialaxis": {
            "gridcolor": "white",
            "linecolor": "white",
            "ticks": ""
           }
          },
          "scene": {
           "xaxis": {
            "backgroundcolor": "#E5ECF6",
            "gridcolor": "white",
            "gridwidth": 2,
            "linecolor": "white",
            "showbackground": true,
            "ticks": "",
            "zerolinecolor": "white"
           },
           "yaxis": {
            "backgroundcolor": "#E5ECF6",
            "gridcolor": "white",
            "gridwidth": 2,
            "linecolor": "white",
            "showbackground": true,
            "ticks": "",
            "zerolinecolor": "white"
           },
           "zaxis": {
            "backgroundcolor": "#E5ECF6",
            "gridcolor": "white",
            "gridwidth": 2,
            "linecolor": "white",
            "showbackground": true,
            "ticks": "",
            "zerolinecolor": "white"
           }
          },
          "shapedefaults": {
           "line": {
            "color": "#2a3f5f"
           }
          },
          "ternary": {
           "aaxis": {
            "gridcolor": "white",
            "linecolor": "white",
            "ticks": ""
           },
           "baxis": {
            "gridcolor": "white",
            "linecolor": "white",
            "ticks": ""
           },
           "bgcolor": "#E5ECF6",
           "caxis": {
            "gridcolor": "white",
            "linecolor": "white",
            "ticks": ""
           }
          },
          "title": {
           "x": 0.05
          },
          "xaxis": {
           "automargin": true,
           "gridcolor": "white",
           "linecolor": "white",
           "ticks": "",
           "title": {
            "standoff": 15
           },
           "zerolinecolor": "white",
           "zerolinewidth": 2
          },
          "yaxis": {
           "automargin": true,
           "gridcolor": "white",
           "linecolor": "white",
           "ticks": "",
           "title": {
            "standoff": 15
           },
           "zerolinecolor": "white",
           "zerolinewidth": 2
          }
         }
        },
        "title": {
         "text": "Scatter Plot of Mileage vs. Price by Fuel Type"
        },
        "xaxis": {
         "anchor": "y",
         "domain": [
          0,
          1
         ],
         "title": {
          "text": "Mileage (in km)"
         }
        },
        "yaxis": {
         "anchor": "x",
         "domain": [
          0,
          1
         ],
         "title": {
          "text": "Price"
         }
        }
       }
      }
     },
     "metadata": {},
     "output_type": "display_data"
    }
   ],
   "source": [
    "# Scatter plot\n",
    "fig_scatter = px.scatter(df, x='Mileage_Run', y='Price', \n",
    "                         color='Fuel_Type', \n",
    "                         title='Scatter Plot of Mileage vs. Price by Fuel Type',\n",
    "                         labels={'Mileage_Run': 'Mileage (in km)', 'Price': 'Price'},\n",
    "                         hover_data=['Make', 'Make_Year'])\n",
    "fig_scatter.update_layout(xaxis_title='Mileage (in km)', yaxis_title='Price')\n",
    "fig_scatter.show()"
   ]
  },
  {
   "cell_type": "code",
   "execution_count": 9,
   "metadata": {},
   "outputs": [
    {
     "ename": "NameError",
     "evalue": "name 'X' is not defined",
     "output_type": "error",
     "traceback": [
      "\u001b[0;31m---------------------------------------------------------------------------\u001b[0m",
      "\u001b[0;31mNameError\u001b[0m                                 Traceback (most recent call last)",
      "Cell \u001b[0;32mIn[9], line 2\u001b[0m\n\u001b[1;32m      1\u001b[0m \u001b[38;5;28;01mfrom\u001b[39;00m \u001b[38;5;21;01msklearn\u001b[39;00m\u001b[38;5;21;01m.\u001b[39;00m\u001b[38;5;21;01mmodel_selection\u001b[39;00m \u001b[38;5;28;01mimport\u001b[39;00m train_test_split\n\u001b[0;32m----> 2\u001b[0m X_train, X_test, y_train, y_test \u001b[38;5;241m=\u001b[39m train_test_split(\u001b[43mX\u001b[49m, y, test_size\u001b[38;5;241m=\u001b[39m\u001b[38;5;241m0.2\u001b[39m, random_state\u001b[38;5;241m=\u001b[39m\u001b[38;5;241m42\u001b[39m)\n",
      "\u001b[0;31mNameError\u001b[0m: name 'X' is not defined"
     ]
    }
   ],
   "source": [
    "from sklearn.model_selection import train_test_split\n",
    "X_train, X_test, y_train, y_test = train_test_split(X, y, test_size=0.2, random_state=42)\n"
   ]
  },
  {
   "cell_type": "code",
   "execution_count": null,
   "metadata": {},
   "outputs": [],
   "source": []
  },
  {
   "cell_type": "code",
   "execution_count": null,
   "metadata": {},
   "outputs": [],
   "source": []
  },
  {
   "cell_type": "code",
   "execution_count": 11,
   "metadata": {},
   "outputs": [
    {
     "data": {
      "text/plain": [
       "<Axes: xlabel='age_ihs', ylabel='price_ihs'>"
      ]
     },
     "execution_count": 11,
     "metadata": {},
     "output_type": "execute_result"
    },
    {
     "data": {
      "image/png": "[encoded data removed]",
      "text/plain": [
       "<Figure size 640x480 with 1 Axes>"
      ]
     },
     "metadata": {},
     "output_type": "display_data"
    }
   ],
   "source": [
    "df['price_ihs'] = np.arcsinh(df['Price'])\n",
    "df['age_ihs'] = np.arcsinh(df['age'])\n",
    "sns.scatterplot(data=df,y='price_ihs',x='age_ihs')"
   ]
  },
  {
   "cell_type": "code",
   "execution_count": 12,
   "metadata": {},
   "outputs": [
    {
     "data": {
      "text/html": [
       "<div>\n",
       "<style scoped>\n",
       "    .dataframe tbody tr th:only-of-type {\n",
       "        vertical-align: middle;\n",
       "    }\n",
       "\n",
       "    .dataframe tbody tr th {\n",
       "        vertical-align: top;\n",
       "    }\n",
       "\n",
       "    .dataframe thead th {\n",
       "        text-align: right;\n",
       "    }\n",
       "</style>\n",
       "<table border=\"1\" class=\"dataframe\">\n",
       "  <thead>\n",
       "    <tr style=\"text-align: right;\">\n",
       "      <th></th>\n",
       "      <th>variable</th>\n",
       "      <th>coefficient</th>\n",
       "    </tr>\n",
       "  </thead>\n",
       "  <tbody>\n",
       "    <tr>\n",
       "      <th>0</th>\n",
       "      <td>crossover</td>\n",
       "      <td>7.050952e+05</td>\n",
       "    </tr>\n",
       "    <tr>\n",
       "      <th>1</th>\n",
       "      <td>hatchback</td>\n",
       "      <td>5.339773e+05</td>\n",
       "    </tr>\n",
       "    <tr>\n",
       "      <th>2</th>\n",
       "      <td>muv</td>\n",
       "      <td>6.264211e+05</td>\n",
       "    </tr>\n",
       "    <tr>\n",
       "      <th>3</th>\n",
       "      <td>sedan</td>\n",
       "      <td>8.097841e+05</td>\n",
       "    </tr>\n",
       "    <tr>\n",
       "      <th>4</th>\n",
       "      <td>suv</td>\n",
       "      <td>1.176495e+06</td>\n",
       "    </tr>\n",
       "  </tbody>\n",
       "</table>\n",
       "</div>"
      ],
      "text/plain": [
       "    variable   coefficient\n",
       "0  crossover  7.050952e+05\n",
       "1  hatchback  5.339773e+05\n",
       "2        muv  6.264211e+05\n",
       "3      sedan  8.097841e+05\n",
       "4        suv  1.176495e+06"
      ]
     },
     "execution_count": 12,
     "metadata": {},
     "output_type": "execute_result"
    }
   ],
   "source": [
    "y = df['Price']\n",
    "X = pd.get_dummies(df['Body_Type'], dtype='int')\n",
    "\n",
    "from sklearn import linear_model\n",
    "reg = linear_model.LinearRegression(fit_intercept=False).fit(X,y) # Run regression\n",
    "\n",
    "results = pd.DataFrame({'variable':reg.feature_names_in_, 'coefficient': reg.coef_}) # Regression coefficients\n",
    "\n",
    "results"
   ]
  },
  {
   "cell_type": "code",
   "execution_count": 13,
   "metadata": {},
   "outputs": [
    {
     "name": "stdout",
     "output_type": "stream",
     "text": [
      "Training RMSE: 270856.2112473151\n",
      "Training R^2: 0.4744033999572571\n",
      "Test RMSE: 257362.90621056609\n",
      "Test R^2: 0.422508506873043\n",
      "Regression Coefficients:\n",
      "    variable   coefficient\n",
      "0  crossover  7.154667e+05\n",
      "1  hatchback  5.389233e+05\n",
      "2        muv  6.122500e+05\n",
      "3      sedan  8.098977e+05\n",
      "4        suv  1.190929e+06\n"
     ]
    }
   ],
   "source": [
    "import pandas as pd\n",
    "from sklearn.model_selection import train_test_split\n",
    "from sklearn.linear_model import LinearRegression\n",
    "from sklearn.metrics import mean_squared_error, r2_score\n",
    "\n",
    "# Define the target variable and features\n",
    "y = df['Price']\n",
    "X = pd.get_dummies(df['Body_Type'], dtype='int')\n",
    "\n",
    "# Split the data into training and test sets\n",
    "X_train, X_test, y_train, y_test = train_test_split(X, y, test_size=0.2, random_state=42)\n",
    "\n",
    "# Fit the linear regression model\n",
    "reg = LinearRegression(fit_intercept=False)\n",
    "reg.fit(X_train, y_train)\n",
    "\n",
    "# Make predictions\n",
    "y_train_pred = reg.predict(X_train)\n",
    "y_test_pred = reg.predict(X_test)\n",
    "\n",
    "# Calculate RMSE and R^2 for training set\n",
    "train_rmse = mean_squared_error(y_train, y_train_pred, squared=False)\n",
    "train_r2 = r2_score(y_train, y_train_pred)\n",
    "\n",
    "# Calculate RMSE and R^2 for test set\n",
    "test_rmse = mean_squared_error(y_test, y_test_pred, squared=False)\n",
    "test_r2 = r2_score(y_test, y_test_pred)\n",
    "\n",
    "# Create a DataFrame for regression coefficients\n",
    "results = pd.DataFrame({'variable': reg.feature_names_in_, 'coefficient': reg.coef_})\n",
    "\n",
    "# Print results\n",
    "print(\"Training RMSE:\", train_rmse)\n",
    "print(\"Training R^2:\", train_r2)\n",
    "print(\"Test RMSE:\", test_rmse)\n",
    "print(\"Test R^2:\", test_r2)\n",
    "print(\"Regression Coefficients:\")\n",
    "print(results)\n"
   ]
  },
  {
   "cell_type": "markdown",
   "metadata": {},
   "source": [
    "#slight overfitting"
   ]
  },
  {
   "cell_type": "code",
   "execution_count": 18,
   "metadata": {},
   "outputs": [
    {
     "name": "stdout",
     "output_type": "stream",
     "text": [
      "Coefficients:  -0.9442281734457971 3.118874872425179\n"
     ]
    },
    {
     "data": {
      "text/plain": [
       "Text(0.5, 1.0, 'Linear Regression')"
      ]
     },
     "execution_count": 18,
     "metadata": {},
     "output_type": "execute_result"
    },
    {
     "data": {
      "image/png": "[encoded data removed]",
      "text/plain": [
       "<Figure size 640x480 with 1 Axes>"
      ]
     },
     "metadata": {},
     "output_type": "display_data"
    }
   ],
   "source": []
  },
  {
   "cell_type": "code",
   "execution_count": 14,
   "metadata": {},
   "outputs": [
    {
     "ename": "NameError",
     "evalue": "name 'slr' is not defined",
     "output_type": "error",
     "traceback": [
      "\u001b[0;31m---------------------------------------------------------------------------\u001b[0m",
      "\u001b[0;31mNameError\u001b[0m                                 Traceback (most recent call last)",
      "Cell \u001b[0;32mIn[14], line 9\u001b[0m\n\u001b[1;32m      7\u001b[0m b1 \u001b[38;5;241m=\u001b[39m \u001b[38;5;241m3\u001b[39m \u001b[38;5;66;03m# Slope coefficient\u001b[39;00m\n\u001b[1;32m      8\u001b[0m y \u001b[38;5;241m=\u001b[39m b0 \u001b[38;5;241m+\u001b[39m b1\u001b[38;5;241m*\u001b[39mx \u001b[38;5;241m+\u001b[39m eps\n\u001b[0;32m----> 9\u001b[0m reg \u001b[38;5;241m=\u001b[39m \u001b[43mslr\u001b[49m(x,y) \u001b[38;5;66;03m# Run the regression\u001b[39;00m\n\u001b[1;32m     10\u001b[0m \u001b[38;5;28;01mfor\u001b[39;00m i \u001b[38;5;129;01min\u001b[39;00m \u001b[38;5;28mrange\u001b[39m(\u001b[38;5;28mlen\u001b[39m(x)):\n\u001b[1;32m     11\u001b[0m     plt\u001b[38;5;241m.\u001b[39mvlines(x[i], y[i], reg[\u001b[38;5;124m'\u001b[39m\u001b[38;5;124my_hat\u001b[39m\u001b[38;5;124m'\u001b[39m][i], color\u001b[38;5;241m=\u001b[39m\u001b[38;5;124m'\u001b[39m\u001b[38;5;124mr\u001b[39m\u001b[38;5;124m'\u001b[39m) \u001b[38;5;66;03m# Visualize residuals\u001b[39;00m\n",
      "\u001b[0;31mNameError\u001b[0m: name 'slr' is not defined"
     ]
    }
   ],
   "source": [
    "# The sum of the squares of the red lines is the SSE:\n",
    "np.random.seed(500) # Set the seed for the random number generator\n",
    "N = 30\n",
    "x = 5 + 2*np.random.normal(0,1,size = N) # Create an x\n",
    "eps = np.random.normal(0,3,size = N) # Create noise\n",
    "b0 = -1 # Intercept coefficoent\n",
    "b1 = 3 # Slope coefficient\n",
    "y = b0 + b1*x + eps\n",
    "reg = slr(x,y) # Run the regression\n",
    "for i in range(len(x)):\n",
    "    plt.vlines(x[i], y[i], reg['y_hat'][i], color='r') # Visualize residuals\n",
    "plt.plot(x,reg['y_hat'],label='Regression Line')\n",
    "plt.scatter(x,y,label='Data')\n",
    "plt.xlabel(\"X\")\n",
    "plt.ylabel(\"Y\")\n",
    "plt.legend(loc='lower right')\n",
    "plt.title('Visualizing SSE: Sum of Squared Red Lines')\n",
    "plt.show()"
   ]
  }
 ],
 "metadata": {
  "kernelspec": {
   "display_name": "base",
   "language": "python",
   "name": "python3"
  },
  "language_info": {
   "codemirror_mode": {
    "name": "ipython",
    "version": 3
   },
   "file_extension": ".py",
   "mimetype": "text/x-python",
   "name": "python",
   "nbconvert_exporter": "python",
   "pygments_lexer": "ipython3",
   "version": "3.8.18"
  }
 },
 "nbformat": 4,
 "nbformat_minor": 2
}
